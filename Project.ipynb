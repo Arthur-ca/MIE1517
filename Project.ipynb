{
  "cells": [
    {
      "cell_type": "markdown",
      "metadata": {
        "colab_type": "text",
        "id": "view-in-github"
      },
      "source": [
        "<a href=\"https://colab.research.google.com/github/Arthur-ca/MIE1517/blob/Jing-Guo/Project.ipynb\" target=\"_parent\"><img src=\"https://colab.research.google.com/assets/colab-badge.svg\" alt=\"Open In Colab\"/></a>"
      ]
    },
    {
      "cell_type": "code",
      "execution_count": 2,
      "metadata": {
        "id": "yq0MKgApDInX"
      },
      "outputs": [],
      "source": [
        "import torch\n",
        "import numpy as np\n",
        "import os\n",
        "from sklearn.model_selection import train_test_split\n",
        "import random\n",
        "import torchvision\n",
        "from torchvision import datasets, models\n",
        "from collections import defaultdict\n",
        "import torch.nn as nn\n",
        "import torch.nn.functional as F\n",
        "import torchvision.transforms.functional as F1\n",
        "import matplotlib.pyplot as plt\n",
        "import torch.optim as optim\n",
        "import torchvision.transforms as transforms\n",
        "from torch.utils.data.sampler import SubsetRandomSampler\n",
        "from PIL import Image\n",
        "from torch.utils.data import Dataset, DataLoader, TensorDataset, random_split\n",
        "from torchvision.datasets import ImageFolder\n",
        "import cv2 as cv\n",
        "import tensorflow as tf\n",
        "import gc\n",
        "from collections import Counter\n",
        "import imgaug.augmenters as iaa"
      ]
    },
    {
      "cell_type": "code",
      "execution_count": 3,
      "metadata": {
        "colab": {
          "base_uri": "https://localhost:8080/"
        },
        "id": "PjxPEAukDNt-",
        "outputId": "53008d8c-ceb6-477f-8410-fdb94d442ddc"
      },
      "outputs": [
        {
          "name": "stdout",
          "output_type": "stream",
          "text": [
            "Drive already mounted at /content/gdrive; to attempt to forcibly remount, call drive.mount(\"/content/gdrive\", force_remount=True).\n",
            "['neutrality', 'sadness', 'fear', 'surprise', 'contempt', 'happiness', 'anger', 'disgust']\n"
          ]
        }
      ],
      "source": [
        "#First link it to google drive and check the subfolder of the data\n",
        "from google.colab import drive\n",
        "drive.mount('/content/gdrive')\n",
        "drive_content = os.listdir('/content/gdrive/My Drive/ColabNotebooks/archive')\n",
        "print(drive_content)"
      ]
    },
    {
      "cell_type": "code",
      "execution_count": 4,
      "metadata": {
        "colab": {
          "base_uri": "https://localhost:8080/"
        },
        "id": "T6_Ip_NB52CQ",
        "outputId": "440bc302-033a-49fe-e00e-f06bc2e8c711"
      },
      "outputs": [
        {
          "data": {
            "text/plain": [
              "['neutrality',\n",
              " 'sadness',\n",
              " 'fear',\n",
              " 'surprise',\n",
              " 'contempt',\n",
              " 'happiness',\n",
              " 'anger',\n",
              " 'disgust']"
            ]
          },
          "execution_count": 4,
          "metadata": {},
          "output_type": "execute_result"
        }
      ],
      "source": [
        "classeses = []\n",
        "for i in os.listdir('/content/gdrive/My Drive/ColabNotebooks/archive'):\n",
        "    if i!=5:\n",
        "        classeses.append(i)\n",
        "classeses"
      ]
    },
    {
      "cell_type": "code",
      "execution_count": 5,
      "metadata": {
        "id": "EkEP0L_ASYVb"
      },
      "outputs": [],
      "source": [
        "# def gauss_noise_tensor(img):\n",
        "#     assert isinstance(img, torch.Tensor)\n",
        "#     dtype = img.dtype\n",
        "#     if not img.is_floating_point():\n",
        "#         img = img.to(torch.float32)\n",
        "\n",
        "#     sigma = 25.0\n",
        "\n",
        "#     out = img + sigma * torch.randn_like(img)\n",
        "\n",
        "#     if out.dtype != dtype:\n",
        "#         out = out.to(dtype)\n",
        "\n",
        "#     return out\n",
        "# class ImgAugTransform:\n",
        "#     def __init__(self):\n",
        "#         self.aug = iaa.Sequential([\n",
        "#             iaa.Resize({\"height\": 224, \"width\": 224}),\n",
        "#             iaa.Sometimes(0.25, iaa.GaussianBlur(sigma=(0, 3.0))),\n",
        "#             iaa.Sometimes(0.25, iaa.Affine(rotate=(-20, 20), mode='symmetric')),\n",
        "#             iaa.Sometimes(0.25, iaa.OneOf([\n",
        "#                 iaa.Dropout(p=(0, 0.1)),\n",
        "#                 iaa.CoarseDropout(0.1, size_percent=0.5)\n",
        "#             ])),\n",
        "#             iaa.AddToHueAndSaturation(value=(-10, 10), per_channel=True)\n",
        "#         ])\n",
        "\n",
        "#     def __call__(self, img):\n",
        "#         img = np.array(img)\n",
        "\n",
        "#         augmented_img = self.aug.augment_image(img)\n",
        "\n",
        "#         # Convert the augmented image to PyTorch tensor\n",
        "#         augmented_tensor = F1.to_tensor(augmented_img)\n",
        "#         return self.aug.augment_image(img)\n",
        "#   imgaug_transform = ImgAugTransform()"
      ]
    },
    {
      "cell_type": "code",
      "execution_count": 5,
      "metadata": {
        "colab": {
          "base_uri": "https://localhost:8080/"
        },
        "id": "EjPs44Ion4HI",
        "outputId": "9e46df40-654e-4f44-ad67-d958ccd49889"
      },
      "outputs": [
        {
          "name": "stdout",
          "output_type": "stream",
          "text": [
            "<class 'torch.Tensor'>\n",
            "Label 0: 524 images\n",
            "Label 1: 746 images\n",
            "Label 2: 570 images\n",
            "Label 3: 785 images\n",
            "Label 4: 208 images\n",
            "Label 5: 1406 images\n",
            "Label 6: 890 images\n",
            "Label 7: 439 images\n"
          ]
        }
      ],
      "source": [
        "features_or = []\n",
        "labels_or = []\n",
        "train_data_or = []\n",
        "data_transform1 = transforms.Compose([\n",
        "    transforms.Resize((224, 224)),\n",
        "    transforms.ToTensor()\n",
        "])\n",
        "def create_train2():\n",
        "    for i, photo in enumerate(classeses):\n",
        "        path = os.path.join('/content/gdrive/My Drive/ColabNotebooks/archive', photo)\n",
        "        label = i  # Use the index of the class as the label\n",
        "\n",
        "        # Loop over to get every image in the current class\n",
        "        for img_name in os.listdir(path):\n",
        "            img_path = os.path.join(path, img_name)\n",
        "            img_pil = cv.imread(img_path)\n",
        "            img_pil = Image.fromarray(cv.cvtColor(img_pil, cv.COLOR_BGR2RGB))\n",
        "            transformed_image1 = data_transform1(img_pil)\n",
        "\n",
        "            if img_pil is None:\n",
        "                print(\"Error loading image:\", img_pil)\n",
        "                continue\n",
        "            # Append the original image and its label to the list\n",
        "            features_or.append(transformed_image1)\n",
        "            labels_or.append(label)\n",
        "\n",
        "            train_data_or.append([img_pil, label])\n",
        "create_train2()\n",
        "print(type(features_or[0]))\n",
        "# Count the occurrences of each label\n",
        "label_counts_or = Counter(labels_or)\n",
        "\n",
        "# Print the label counts\n",
        "for label, count in label_counts_or.items():\n",
        "    print(f\"Label {label}: {count} images\")\n"
      ]
    },
    {
      "cell_type": "code",
      "execution_count": 6,
      "metadata": {
        "colab": {
          "base_uri": "https://localhost:8080/"
        },
        "id": "mplacBAwPZbA",
        "outputId": "2cce35cf-bcfc-4ae4-c929-e29c38fc4249"
      },
      "outputs": [
        {
          "name": "stdout",
          "output_type": "stream",
          "text": [
            "Label 0: 1048 images\n",
            "Label 1: 1492 images\n",
            "Label 2: 1140 images\n",
            "Label 3: 1570 images\n",
            "Label 4: 416 images\n",
            "Label 5: 2812 images\n",
            "Label 6: 1780 images\n",
            "Label 7: 878 images\n"
          ]
        }
      ],
      "source": [
        "\n",
        "# Define the classes (folders) in your dataset\n",
        "classes = os.listdir('/content/gdrive/My Drive/ColabNotebooks/archive')\n",
        "\n",
        "# Initialize empty lists for features (transformed images) and labels\n",
        "features = []\n",
        "labels = []\n",
        "\n",
        "data_transform2 = transforms.Compose([\n",
        "    transforms.Resize((224, 224)),\n",
        "    transforms.RandomRotation(degrees=(-50, 50)),\n",
        "    transforms.ToTensor()\n",
        "])\n",
        "data_transform3 = transforms.Compose([\n",
        "    transforms.Resize((224, 224)),\n",
        "    transforms.ToTensor()\n",
        "])\n",
        "data_transform5 = transforms.Compose([\n",
        "    transforms.Resize((224, 224)),\n",
        "    transforms.GaussianBlur(kernel_size=(7, 13), sigma=(9, 11)),  # The argument here specifies the radius, not kernel size\n",
        "    transforms.ToTensor()\n",
        "])\n",
        "\n",
        "\n",
        "def create_train():\n",
        "    for i, photo in enumerate(classes):\n",
        "        path = os.path.join('/content/gdrive/My Drive/ColabNotebooks/archive', photo)\n",
        "        label = i  # Use the index of the class as the label\n",
        "\n",
        "        # Loop over to get every image in the current class\n",
        "        for img_name in os.listdir(path):\n",
        "            img_path = os.path.join(path, img_name)\n",
        "            img_pil = cv.imread(img_path)\n",
        "\n",
        "            if img_pil is None:\n",
        "                print(\"Error loading image:\", img_path)\n",
        "                continue\n",
        "            # Append the original image and its label to the list\n",
        "            # features.append(np.array(img_array))\n",
        "            # labels.append(label)\n",
        "\n",
        "            # Apply the defined transformations\n",
        "            img_pil = Image.fromarray(cv.cvtColor(img_pil, cv.COLOR_BGR2RGB))\n",
        "            transformed_image1 = data_transform2(img_pil)\n",
        "            #print(f\"1:{type(transformed_image1)}\")\n",
        "            #transformed_image2 = data_transform2(img_pil)\n",
        "            transformed_image3 = data_transform3(img_pil)\n",
        "            #print(f\"3:{type(transformed_image3)}\")\n",
        "            features.append(np.array(transformed_image1))\n",
        "            #features.append(np.array(transformed_image2))\n",
        "            features.append(np.array(transformed_image3))\n",
        "            labels.append(label)\n",
        "            labels.append(label)\n",
        "            #labels.append(label)\n",
        "            # train_data.append([transformed_image1, label])\n",
        "            # #train_data.append([transformed_image2, label])\n",
        "            # train_data.append([transformed_image3, label])\n",
        "create_train()\n",
        "\n",
        "# Count the occurrences of each label\n",
        "label_counts = Counter(labels)\n",
        "\n",
        "# Print the label counts\n",
        "for label, count in label_counts.items():\n",
        "    print(f\"Label {label}: {count} images\")"
      ]
    },
    {
      "cell_type": "code",
      "execution_count": 6,
      "metadata": {
        "colab": {
          "base_uri": "https://localhost:8080/"
        },
        "id": "zRyc-kNk2560",
        "outputId": "8accac54-d49a-43a7-ba91-f99b6e1d0db8"
      },
      "outputs": [
        {
          "name": "stdout",
          "output_type": "stream",
          "text": [
            "Image Data Type: <class 'torch.Tensor'>\n",
            "Image Data Type: <class 'torch.Tensor'>\n",
            "Image Data Type: <class 'torch.Tensor'>\n",
            "Image Data Type: <class 'torch.Tensor'>\n",
            "Image Data Type: <class 'torch.Tensor'>\n",
            "Image Data Type: <class 'torch.Tensor'>\n",
            "Image Data Type: <class 'torch.Tensor'>\n",
            "Image Data Type: <class 'torch.Tensor'>\n",
            "Image Data Type: <class 'torch.Tensor'>\n",
            "Image Data Type: <class 'torch.Tensor'>\n",
            "Image Data Type: <class 'torch.Tensor'>\n"
          ]
        }
      ],
      "source": [
        "n = 0\n",
        "for images in features_or:\n",
        "    print(f\"Image Data Type: {type(images)}\")\n",
        "    n=n+1\n",
        "    if n>10:\n",
        "      break"
      ]
    },
    {
      "cell_type": "code",
      "execution_count": 9,
      "metadata": {
        "colab": {
          "base_uri": "https://localhost:8080/"
        },
        "id": "0EifcKpmBYmz",
        "outputId": "bf50da8e-7782-4b5f-a135-8ced94658e6b"
      },
      "outputs": [
        {
          "name": "stdout",
          "output_type": "stream",
          "text": [
            "Image Data Type: <class 'torch.Tensor'>\n",
            "Image Data Type: torch.Size([3, 224, 224])\n",
            "Image Data Type: <class 'torch.Tensor'>\n",
            "Image Data Type: torch.Size([3, 224, 224])\n",
            "Image Data Type: <class 'torch.Tensor'>\n",
            "Image Data Type: torch.Size([3, 224, 224])\n",
            "Image Data Type: <class 'torch.Tensor'>\n",
            "Image Data Type: torch.Size([3, 224, 224])\n",
            "Image Data Type: <class 'torch.Tensor'>\n",
            "Image Data Type: torch.Size([3, 224, 224])\n",
            "Image Data Type: <class 'torch.Tensor'>\n",
            "Image Data Type: torch.Size([3, 224, 224])\n",
            "Image Data Type: <class 'torch.Tensor'>\n",
            "Image Data Type: torch.Size([3, 224, 224])\n",
            "Image Data Type: <class 'torch.Tensor'>\n",
            "Image Data Type: torch.Size([3, 224, 224])\n",
            "Image Data Type: <class 'torch.Tensor'>\n",
            "Image Data Type: torch.Size([3, 224, 224])\n",
            "Image Data Type: <class 'torch.Tensor'>\n",
            "Image Data Type: torch.Size([3, 224, 224])\n",
            "Image Data Type: <class 'torch.Tensor'>\n",
            "Image Data Type: torch.Size([3, 224, 224])\n"
          ]
        }
      ],
      "source": [
        "n = 0\n",
        "for image in features_or:\n",
        "    if isinstance(image, np.ndarray):\n",
        "        image = torch.from_numpy(image).permute(2, 0, 1)\n",
        "for images in features_or:\n",
        "    print(f\"Image Data Type: {type(images)}\")\n",
        "    print(f\"Image Data Type: {images.shape}\")\n",
        "    n=n+1\n",
        "    if n>10:\n",
        "      break\n",
        "\n"
      ]
    },
    {
      "cell_type": "code",
      "execution_count": 10,
      "metadata": {
        "colab": {
          "base_uri": "https://localhost:8080/",
          "height": 242
        },
        "id": "z61XyoRXbiYm",
        "outputId": "6180a704-6f0e-4a59-843c-70cebd9e227e"
      },
      "outputs": [
        {
          "ename": "NameError",
          "evalue": "ignored",
          "output_type": "error",
          "traceback": [
            "\u001b[0;31m---------------------------------------------------------------------------\u001b[0m",
            "\u001b[0;31mNameError\u001b[0m                                 Traceback (most recent call last)",
            "\u001b[0;32m<ipython-input-10-209fcd37292f>\u001b[0m in \u001b[0;36m<cell line: 17>\u001b[0;34m()\u001b[0m\n\u001b[1;32m     15\u001b[0m \u001b[0;34m\u001b[0m\u001b[0m\n\u001b[1;32m     16\u001b[0m \u001b[0;31m# Iterate over the DataLoader\u001b[0m\u001b[0;34m\u001b[0m\u001b[0;34m\u001b[0m\u001b[0m\n\u001b[0;32m---> 17\u001b[0;31m \u001b[0;32mfor\u001b[0m \u001b[0mlabel\u001b[0m \u001b[0;32min\u001b[0m \u001b[0mrange\u001b[0m\u001b[0;34m(\u001b[0m\u001b[0mlen\u001b[0m\u001b[0;34m(\u001b[0m\u001b[0mclasses\u001b[0m\u001b[0;34m)\u001b[0m\u001b[0;34m)\u001b[0m\u001b[0;34m:\u001b[0m  \u001b[0;31m# Assuming 'classes' contains the class names\u001b[0m\u001b[0;34m\u001b[0m\u001b[0;34m\u001b[0m\u001b[0m\n\u001b[0m\u001b[1;32m     18\u001b[0m     \u001b[0;31m# Filter images for the current label\u001b[0m\u001b[0;34m\u001b[0m\u001b[0;34m\u001b[0m\u001b[0m\n\u001b[1;32m     19\u001b[0m     \u001b[0mlabel_indices\u001b[0m \u001b[0;34m=\u001b[0m \u001b[0;34m[\u001b[0m\u001b[0mi\u001b[0m \u001b[0;32mfor\u001b[0m \u001b[0mi\u001b[0m\u001b[0;34m,\u001b[0m \u001b[0ml\u001b[0m \u001b[0;32min\u001b[0m \u001b[0menumerate\u001b[0m\u001b[0;34m(\u001b[0m\u001b[0mlabels\u001b[0m\u001b[0;34m)\u001b[0m \u001b[0;32mif\u001b[0m \u001b[0ml\u001b[0m \u001b[0;34m==\u001b[0m \u001b[0mlabel\u001b[0m\u001b[0;34m]\u001b[0m\u001b[0;34m\u001b[0m\u001b[0;34m\u001b[0m\u001b[0m\n",
            "\u001b[0;31mNameError\u001b[0m: name 'classes' is not defined"
          ]
        }
      ],
      "source": [
        "def show_images(images, labels):\n",
        "    num_images = len(images)\n",
        "    rows = int(np.sqrt(num_images))\n",
        "    cols = int(np.ceil(num_images / rows))\n",
        "\n",
        "    fig, axes = plt.subplots(rows, cols, figsize=(5, 5))\n",
        "\n",
        "    for i, (image, label) in enumerate(zip(images, labels)):\n",
        "        ax = axes.flatten()[i]\n",
        "        ax.imshow(np.transpose(image, (1, 2, 0)))  # Swap axes for NumPy array\n",
        "        ax.set_title(f\"Label: {label}\")\n",
        "        ax.axis(\"off\")\n",
        "\n",
        "    plt.show()\n",
        "\n",
        "# Iterate over the DataLoader\n",
        "for label in range(len(classes)):  # Assuming 'classes' contains the class names\n",
        "    # Filter images for the current label\n",
        "    label_indices = [i for i, l in enumerate(labels) if l == label]\n",
        "\n",
        "    # Randomly choose 5 images from the filtered indices\n",
        "    chosen_indices = np.random.choice(label_indices, size=min(8, len(label_indices)), replace=False)\n",
        "\n",
        "    # Extract images and labels for the chosen indices\n",
        "    chosen_images = [features[i] for i in chosen_indices]\n",
        "    chosen_labels = [labels[i] for i in chosen_indices]\n",
        "\n",
        "    # Show images for the current label\n",
        "    show_images(chosen_images, chosen_labels)"
      ]
    },
    {
      "cell_type": "code",
      "execution_count": 11,
      "metadata": {
        "id": "aOcsfB_6d-9P"
      },
      "outputs": [],
      "source": [
        "\n",
        "from torchvision import transforms\n",
        "from collections import defaultdict\n",
        "labels = labels_or\n",
        "features = features_or\n",
        "# Shuffle the labels and features in the same order\n",
        "combined = list(zip(labels, features))\n",
        "labels, features = zip(*combined)\n",
        "\n",
        "# Create a dictionary to store images by label\n",
        "label_to_images = defaultdict(list)\n",
        "\n",
        "# Group images by label\n",
        "for label, img in zip(labels, features):\n",
        "    label_to_images[label].append(img)\n",
        "\n",
        "# Set the ratios for train, validation, and test sets\n",
        "train_ratio = 0.7\n",
        "validation_ratio = 0.15\n",
        "test_ratio = 0.15\n",
        "\n",
        "train_data = []\n",
        "validation_data = []\n",
        "test_data = []\n",
        "\n",
        "# Split data for each label\n",
        "for label, images in label_to_images.items():\n",
        "    random.shuffle(images)  # Shuffle the images for each label\n",
        "\n",
        "    num_images = len(images)\n",
        "    num_train = int(train_ratio * num_images)\n",
        "    num_validation = int(validation_ratio * num_images)\n",
        "    num_test = num_images - num_train - num_validation\n",
        "\n",
        "    train_data.extend([(img, label) for img in images[:num_train]])\n",
        "    validation_data.extend([(img, label) for img in images[num_train:num_train + num_validation]])\n",
        "    test_data.extend([(img, label) for img in images[num_train + num_validation:]])"
      ]
    },
    {
      "cell_type": "code",
      "execution_count": 12,
      "metadata": {
        "colab": {
          "base_uri": "https://localhost:8080/"
        },
        "id": "0p-HrE4hxpNI",
        "outputId": "6df82cb9-d41d-485e-ab7b-6bd08c61d33a"
      },
      "outputs": [
        {
          "name": "stdout",
          "output_type": "stream",
          "text": [
            "Sample data shape: torch.Size([3, 224, 224])\n",
            "Sample data shape: torch.Size([3, 224, 224])\n",
            "Sample data shape: torch.Size([3, 224, 224])\n",
            "Sample data shape: torch.Size([3, 224, 224])\n",
            "Sample data shape: torch.Size([3, 224, 224])\n",
            "Sample data shape: torch.Size([3, 224, 224])\n",
            "Sample data shape: torch.Size([3, 224, 224])\n",
            "Sample data shape: torch.Size([3, 224, 224])\n",
            "Sample data shape: torch.Size([3, 224, 224])\n",
            "Sample data shape: torch.Size([3, 224, 224])\n",
            "Sample data shape: torch.Size([3, 224, 224])\n",
            "Sample data shape: torch.Size([3, 224, 224])\n",
            "Sample data shape: torch.Size([3, 224, 224])\n",
            "Sample data shape: torch.Size([3, 224, 224])\n",
            "Sample data shape: torch.Size([3, 224, 224])\n",
            "Sample label: 0\n",
            "843\n",
            "830\n",
            "3895\n"
          ]
        }
      ],
      "source": [
        "\n",
        "sample_index = 0  # Change this to the index of the sample you want to inspect\n",
        "\n",
        "for i in range(15):\n",
        "    sample_data, sample_label = test_data[i]\n",
        "    print(\"Sample data shape:\", sample_data.shape)\n",
        "\n",
        "print(\"Sample label:\", sample_label)\n",
        "print(len(test_data))\n",
        "print(len(validation_data))\n",
        "print(len(train_data))"
      ]
    },
    {
      "cell_type": "code",
      "execution_count": 13,
      "metadata": {
        "colab": {
          "base_uri": "https://localhost:8080/"
        },
        "id": "l2QuytyAZaIt",
        "outputId": "ce828303-3259-4ba0-d716-98df136a658c"
      },
      "outputs": [
        {
          "name": "stdout",
          "output_type": "stream",
          "text": [
            "torch.Size([64, 3, 224, 224])\n"
          ]
        },
        {
          "name": "stderr",
          "output_type": "stream",
          "text": [
            "<ipython-input-13-f719a3770521>:12: UserWarning: To copy construct from a tensor, it is recommended to use sourceTensor.clone().detach() or sourceTensor.clone().detach().requires_grad_(True), rather than torch.tensor(sourceTensor).\n",
            "  img_tensor = torch.tensor(img, dtype=torch.float32)\n"
          ]
        }
      ],
      "source": [
        "\n",
        "class CustomDataset(Dataset):\n",
        "    def __init__(self, data):\n",
        "        self.data = data\n",
        "\n",
        "    def __len__(self):\n",
        "        return len(self.data)\n",
        "\n",
        "    def __getitem__(self, index):\n",
        "        img, label = self.data[index]\n",
        "\n",
        "        # Convert img to PyTorch tensor\n",
        "        img_tensor = torch.tensor(img, dtype=torch.float32)\n",
        "\n",
        "        return img_tensor, label\n",
        "\n",
        "# Create datasets\n",
        "train_dataset = CustomDataset(train_data)\n",
        "validation_dataset = CustomDataset(validation_data)\n",
        "test_dataset = CustomDataset(test_data)\n",
        "\n",
        "# Create DataLoader instances\n",
        "batch_size = 64  # You can adjust this based on your needs\n",
        "train_loader = DataLoader(train_dataset, batch_size=batch_size, shuffle=True)\n",
        "validation_loader = DataLoader(validation_dataset, batch_size=batch_size, shuffle=False)\n",
        "test_loader = DataLoader(test_dataset, batch_size=batch_size, shuffle=False)\n",
        "\n",
        "# Check the tensor size\n",
        "for images, labels in train_loader:\n",
        "    print(images.size())  # This will print the size of the tensor\n",
        "    break\n"
      ]
    },
    {
      "cell_type": "code",
      "execution_count": 14,
      "metadata": {
        "id": "In9y4e4UPIBo"
      },
      "outputs": [],
      "source": [
        "class CNNLargeNet(nn.Module):\n",
        "    def __init__(self, output1, output2):\n",
        "        super(CNNLargeNet, self).__init__()\n",
        "        self.name = \"large\"\n",
        "        self.conv1 = nn.Conv2d(3, output1, 9)  # Adjust in_channels and kernel size\n",
        "        self.pool = nn.MaxPool2d(2, 2)\n",
        "        self.conv2 = nn.Conv2d(output1, output2, 9)  # Adjust in_channels\n",
        "        self.fc1 = nn.Linear(output2 * 50 * 50, 128)  # Adjust input size\n",
        "        self.fc2 = nn.Linear(128, 8)  # 8 output classes\n",
        "        self.output2 = output2  # Store output2 as an attribute of the class\n",
        "\n",
        "    def forward(self, x):\n",
        "        x = self.pool(F.relu(self.conv1(x)))\n",
        "        x = self.pool(F.relu(self.conv2(x)))\n",
        "        x = x.view(-1, self.output2 * 50 * 50)  # Access output2 using self.output2\n",
        "        x = F.relu(self.fc1(x))\n",
        "        x = self.fc2(x)\n",
        "        return x"
      ]
    },
    {
      "cell_type": "code",
      "execution_count": 15,
      "metadata": {
        "id": "iqI-e7OXPE-F"
      },
      "outputs": [],
      "source": [
        "def get_accuracy(model, dataset):\n",
        "    correct = 0\n",
        "    total = 0\n",
        "    for imgs, labels in torch.utils.data.DataLoader(dataset, batch_size=64):\n",
        "        #############################################\n",
        "        #To Enable GPU Usage\n",
        "        if use_cuda and torch.cuda.is_available():\n",
        "          imgs = imgs.cuda()\n",
        "          labels = labels.cuda()\n",
        "        #############################################\n",
        "        output = model(imgs)\n",
        "        #select index with maximum prediction score\n",
        "        pred = output.max(1, keepdim=True)[1]\n",
        "        correct += pred.eq(labels.view_as(pred)).sum().item()\n",
        "        total += imgs.shape[0]\n",
        "    return correct / total\n",
        "\n",
        "def trainmodel(model, train_dataset, val_dataset, batch=64, learningRate=0.001, num_epochs=10):\n",
        "    # Create loss function and optimizer.\n",
        "    criterion = nn.CrossEntropyLoss()\n",
        "    optimizer = optim.Adam(model.parameters(), lr=learningRate)\n",
        "    # Load data\n",
        "    train_loader = DataLoader(train_dataset, batch_size=batch, shuffle=True)\n",
        "    val_loader = DataLoader(val_dataset, batch_size=batch, shuffle=True)\n",
        "    # Create accuracy lists\n",
        "    iters, losses, train_accuracy, validation_accuracy = [], [], [], []\n",
        "    n = 0  # Initialize the iteration counter\n",
        "    # Train the data\n",
        "    for epoch in range(num_epochs):\n",
        "        running_loss = 0.0\n",
        "        for batch_data in train_loader:\n",
        "            imgs, labels = batch_data\n",
        "            img_to_tensor = transforms.ToTensor()\n",
        "            imgs = img_to_tensor(image)\n",
        "            if use_cuda and torch.cuda.is_available():\n",
        "                imgs = imgs.cuda()\n",
        "                labels = labels.cuda()\n",
        "\n",
        "            out = model(imgs)  # Forward pass\n",
        "            loss = criterion(out, labels)  # Compute the total loss\n",
        "            loss.backward()  # Backward pass (compute parameter updates)\n",
        "            optimizer.step()  # Make the updates for each parameter\n",
        "            optimizer.zero_grad()  # A clean-up step for PyTorch\n",
        "            n += 1\n",
        "            print(\"Input image data type:\", imgs.dtype)\n",
        "            print(\"Model parameters data types:\")\n",
        "            for param in model.parameters():\n",
        "                print(param.dtype)\n",
        "            # Save the current training information\n",
        "            running_loss += loss.item()\n",
        "\n",
        "        iters.append(n)\n",
        "        losses.append(running_loss / len(train_loader))  # Compute average loss for the epoch\n",
        "        train_accuracy.append(get_accuracy(model, train_dataset))  # Compute training accuracy\n",
        "\n",
        "        # Compute validation accuracy for this epoch\n",
        "        validation_accuracy.append(get_accuracy(model, val_dataset))  # Compute validation accuracy\n",
        "\n",
        "        # Print progress for the epoch\n",
        "        print(\"Epoch {}, Train Accuracy: {:.2f}%, Validation Accuracy: {:.2f}%\".format(\n",
        "            epoch, train_accuracy[epoch], validation_accuracy[epoch]))\n",
        "\n",
        "        # Save model checkpoint\n",
        "        model_checkpoint_path = '/content/gdrive/My Drive/ColabNotebooks/new'  # You can change the directory as needed\n",
        "        model_checkpoint_file = os.path.join(model_checkpoint_path, f'{model.name} =Batch_size_{batch}_model_epoch{epoch + 1}.pth')\n",
        "        torch.save(model.state_dict(), model_checkpoint_file)\n",
        "        print(f\"Saved model checkpoint: {model_checkpoint_file}\")\n",
        "\n",
        "    print(\"Finished Training\")\n",
        "    return iters, losses, train_accuracy, validation_accuracy"
      ]
    },
    {
      "cell_type": "code",
      "execution_count": 16,
      "metadata": {
        "id": "HbBsnUppOWft"
      },
      "outputs": [],
      "source": [
        "def trainSmall(model, data, batch_size=32, learning_rate=0.005, num_epochs=10):\n",
        "    train_loader = torch.utils.data.DataLoader(data, batch_size=batch_size)\n",
        "    criterion = nn.CrossEntropyLoss()\n",
        "    optimizer = optim.Adam(model.parameters(), lr=learning_rate)\n",
        "    train_acc = []\n",
        "\n",
        "    # training\n",
        "    print(\"Training Start\")\n",
        "    n = 0  # the number of iterations\n",
        "    for epoch in range(num_epochs):\n",
        "        for imgs, labels in iter(train_loader):\n",
        "            #############################################\n",
        "            # To Enable GPU Usage\n",
        "            if use_cuda and torch.cuda.is_available():\n",
        "                imgs = imgs.cuda()\n",
        "                labels = labels.cuda()\n",
        "            #############################################\n",
        "\n",
        "            # Check if imgs is already a tensor\n",
        "            if not torch.is_tensor(imgs):\n",
        "                img_to_tensor = transforms.ToTensor()\n",
        "                imgs = img_to_tensor(imgs)\n",
        "\n",
        "                # Convert input to float\n",
        "                imgs = imgs.float()\n",
        "\n",
        "            # Convert the input tensor to the desired type\n",
        "            imgs = imgs.type(torch.float32)\n",
        "\n",
        "            out = model(imgs)  # forward pass\n",
        "            loss = criterion(out, labels)  # compute the total loss\n",
        "            loss.backward()  # backward pass (compute parameter updates)\n",
        "            optimizer.step()  # make the updates for each parameter\n",
        "            optimizer.zero_grad()  # a clean-up step for PyTorch\n",
        "            n += 1\n",
        "\n",
        "        train_accuracy = get_accuracy(model, data)\n",
        "        train_acc.append(train_accuracy)\n",
        "        print(\"Epoch:{}, Accuracy:{}\".format(epoch, train_accuracy))\n",
        "    return train_acc\n"
      ]
    },
    {
      "cell_type": "code",
      "execution_count": 17,
      "metadata": {
        "colab": {
          "base_uri": "https://localhost:8080/",
          "height": 199
        },
        "id": "Miqu5ClEFpms",
        "outputId": "bc5bc88e-72e8-4b5b-9a81-85530686451b"
      },
      "outputs": [
        {
          "data": {
            "image/png": "[encoded data removed]",
            "text/plain": [
              "<Figure size 2500x400 with 3 Axes>"
            ]
          },
          "metadata": {},
          "output_type": "display_data"
        }
      ],
      "source": [
        "batch_size = 3\n",
        "num_workers = 1\n",
        "small_loader = torch.utils.data.DataLoader(test_data, batch_size=batch_size, num_workers=num_workers, shuffle=True)\n",
        "\n",
        "# Visualize some sample data\n",
        "classes = ['neutrality', 'sadness', 'fear', 'surprise', 'contempt', 'happiness', 'anger', 'disgust']\n",
        "dataiter = iter(small_loader)\n",
        "images, labels = next(dataiter)\n",
        "images = images.numpy() # convert images to numpy for display\n",
        "\n",
        "# plot the images in the batch, along with the corresponding labels\n",
        "fig = plt.figure(figsize=(25, 4))\n",
        "for idx in np.arange(3):\n",
        "    ax = fig.add_subplot(2, 10, idx+1, xticks=[], yticks=[])\n",
        "\n",
        "    # If the image has three channels\n",
        "    if images[idx].shape[0] == 3:\n",
        "        plt.imshow(np.transpose(images[idx], (1, 2, 0)))\n",
        "    else:  # If the image is grayscale\n",
        "        plt.imshow(images[idx][0], cmap='gray')\n",
        "\n",
        "    ax.set_title(classes[labels[idx]])"
      ]
    },
    {
      "cell_type": "code",
      "execution_count": 18,
      "metadata": {
        "colab": {
          "base_uri": "https://localhost:8080/",
          "height": 436
        },
        "id": "bKZlLIGwPd0i",
        "outputId": "b6949fb4-0515-45b8-e331-5cd04032217b"
      },
      "outputs": [
        {
          "name": "stdout",
          "output_type": "stream",
          "text": [
            "Training Start\n",
            "Epoch:0, Accuracy:0.2514827995255042\n",
            "Epoch:1, Accuracy:0.2514827995255042\n",
            "Epoch:2, Accuracy:0.2514827995255042\n",
            "Epoch:3, Accuracy:0.2514827995255042\n"
          ]
        },
        {
          "ename": "KeyboardInterrupt",
          "evalue": "ignored",
          "output_type": "error",
          "traceback": [
            "\u001b[0;31m---------------------------------------------------------------------------\u001b[0m",
            "\u001b[0;31mKeyboardInterrupt\u001b[0m                         Traceback (most recent call last)",
            "\u001b[0;32m<ipython-input-18-c7e6562b061f>\u001b[0m in \u001b[0;36m<cell line: 3>\u001b[0;34m()\u001b[0m\n\u001b[1;32m      1\u001b[0m \u001b[0muse_cuda\u001b[0m \u001b[0;34m=\u001b[0m \u001b[0;32mTrue\u001b[0m\u001b[0;34m\u001b[0m\u001b[0;34m\u001b[0m\u001b[0m\n\u001b[1;32m      2\u001b[0m \u001b[0mCNNmodel\u001b[0m \u001b[0;34m=\u001b[0m \u001b[0mCNNLargeNet\u001b[0m\u001b[0;34m(\u001b[0m\u001b[0;36m10\u001b[0m\u001b[0;34m,\u001b[0m\u001b[0;36m20\u001b[0m\u001b[0;34m)\u001b[0m\u001b[0;34m\u001b[0m\u001b[0;34m\u001b[0m\u001b[0m\n\u001b[0;32m----> 3\u001b[0;31m \u001b[0mY\u001b[0m \u001b[0;34m=\u001b[0m \u001b[0mtrainSmall\u001b[0m\u001b[0;34m(\u001b[0m\u001b[0mCNNmodel\u001b[0m\u001b[0;34m,\u001b[0m\u001b[0mtest_data\u001b[0m\u001b[0;34m)\u001b[0m\u001b[0;34m\u001b[0m\u001b[0;34m\u001b[0m\u001b[0m\n\u001b[0m",
            "\u001b[0;32m<ipython-input-16-5becc60bc0d6>\u001b[0m in \u001b[0;36mtrainSmall\u001b[0;34m(model, data, batch_size, learning_rate, num_epochs)\u001b[0m\n\u001b[1;32m     28\u001b[0m             \u001b[0mimgs\u001b[0m \u001b[0;34m=\u001b[0m \u001b[0mimgs\u001b[0m\u001b[0;34m.\u001b[0m\u001b[0mtype\u001b[0m\u001b[0;34m(\u001b[0m\u001b[0mtorch\u001b[0m\u001b[0;34m.\u001b[0m\u001b[0mfloat32\u001b[0m\u001b[0;34m)\u001b[0m\u001b[0;34m\u001b[0m\u001b[0;34m\u001b[0m\u001b[0m\n\u001b[1;32m     29\u001b[0m \u001b[0;34m\u001b[0m\u001b[0m\n\u001b[0;32m---> 30\u001b[0;31m             \u001b[0mout\u001b[0m \u001b[0;34m=\u001b[0m \u001b[0mmodel\u001b[0m\u001b[0;34m(\u001b[0m\u001b[0mimgs\u001b[0m\u001b[0;34m)\u001b[0m  \u001b[0;31m# forward pass\u001b[0m\u001b[0;34m\u001b[0m\u001b[0;34m\u001b[0m\u001b[0m\n\u001b[0m\u001b[1;32m     31\u001b[0m             \u001b[0mloss\u001b[0m \u001b[0;34m=\u001b[0m \u001b[0mcriterion\u001b[0m\u001b[0;34m(\u001b[0m\u001b[0mout\u001b[0m\u001b[0;34m,\u001b[0m \u001b[0mlabels\u001b[0m\u001b[0;34m)\u001b[0m  \u001b[0;31m# compute the total loss\u001b[0m\u001b[0;34m\u001b[0m\u001b[0;34m\u001b[0m\u001b[0m\n\u001b[1;32m     32\u001b[0m             \u001b[0mloss\u001b[0m\u001b[0;34m.\u001b[0m\u001b[0mbackward\u001b[0m\u001b[0;34m(\u001b[0m\u001b[0;34m)\u001b[0m  \u001b[0;31m# backward pass (compute parameter updates)\u001b[0m\u001b[0;34m\u001b[0m\u001b[0;34m\u001b[0m\u001b[0m\n",
            "\u001b[0;32m/usr/local/lib/python3.10/dist-packages/torch/nn/modules/module.py\u001b[0m in \u001b[0;36m_wrapped_call_impl\u001b[0;34m(self, *args, **kwargs)\u001b[0m\n\u001b[1;32m   1516\u001b[0m             \u001b[0;32mreturn\u001b[0m \u001b[0mself\u001b[0m\u001b[0;34m.\u001b[0m\u001b[0m_compiled_call_impl\u001b[0m\u001b[0;34m(\u001b[0m\u001b[0;34m*\u001b[0m\u001b[0margs\u001b[0m\u001b[0;34m,\u001b[0m \u001b[0;34m**\u001b[0m\u001b[0mkwargs\u001b[0m\u001b[0;34m)\u001b[0m  \u001b[0;31m# type: ignore[misc]\u001b[0m\u001b[0;34m\u001b[0m\u001b[0;34m\u001b[0m\u001b[0m\n\u001b[1;32m   1517\u001b[0m         \u001b[0;32melse\u001b[0m\u001b[0;34m:\u001b[0m\u001b[0;34m\u001b[0m\u001b[0;34m\u001b[0m\u001b[0m\n\u001b[0;32m-> 1518\u001b[0;31m             \u001b[0;32mreturn\u001b[0m \u001b[0mself\u001b[0m\u001b[0;34m.\u001b[0m\u001b[0m_call_impl\u001b[0m\u001b[0;34m(\u001b[0m\u001b[0;34m*\u001b[0m\u001b[0margs\u001b[0m\u001b[0;34m,\u001b[0m \u001b[0;34m**\u001b[0m\u001b[0mkwargs\u001b[0m\u001b[0;34m)\u001b[0m\u001b[0;34m\u001b[0m\u001b[0;34m\u001b[0m\u001b[0m\n\u001b[0m\u001b[1;32m   1519\u001b[0m \u001b[0;34m\u001b[0m\u001b[0m\n\u001b[1;32m   1520\u001b[0m     \u001b[0;32mdef\u001b[0m \u001b[0m_call_impl\u001b[0m\u001b[0;34m(\u001b[0m\u001b[0mself\u001b[0m\u001b[0;34m,\u001b[0m \u001b[0;34m*\u001b[0m\u001b[0margs\u001b[0m\u001b[0;34m,\u001b[0m \u001b[0;34m**\u001b[0m\u001b[0mkwargs\u001b[0m\u001b[0;34m)\u001b[0m\u001b[0;34m:\u001b[0m\u001b[0;34m\u001b[0m\u001b[0;34m\u001b[0m\u001b[0m\n",
            "\u001b[0;32m/usr/local/lib/python3.10/dist-packages/torch/nn/modules/module.py\u001b[0m in \u001b[0;36m_call_impl\u001b[0;34m(self, *args, **kwargs)\u001b[0m\n\u001b[1;32m   1525\u001b[0m                 \u001b[0;32mor\u001b[0m \u001b[0m_global_backward_pre_hooks\u001b[0m \u001b[0;32mor\u001b[0m \u001b[0m_global_backward_hooks\u001b[0m\u001b[0;34m\u001b[0m\u001b[0;34m\u001b[0m\u001b[0m\n\u001b[1;32m   1526\u001b[0m                 or _global_forward_hooks or _global_forward_pre_hooks):\n\u001b[0;32m-> 1527\u001b[0;31m             \u001b[0;32mreturn\u001b[0m \u001b[0mforward_call\u001b[0m\u001b[0;34m(\u001b[0m\u001b[0;34m*\u001b[0m\u001b[0margs\u001b[0m\u001b[0;34m,\u001b[0m \u001b[0;34m**\u001b[0m\u001b[0mkwargs\u001b[0m\u001b[0;34m)\u001b[0m\u001b[0;34m\u001b[0m\u001b[0;34m\u001b[0m\u001b[0m\n\u001b[0m\u001b[1;32m   1528\u001b[0m \u001b[0;34m\u001b[0m\u001b[0m\n\u001b[1;32m   1529\u001b[0m         \u001b[0;32mtry\u001b[0m\u001b[0;34m:\u001b[0m\u001b[0;34m\u001b[0m\u001b[0;34m\u001b[0m\u001b[0m\n",
            "\u001b[0;32m<ipython-input-14-fa6e2c87205f>\u001b[0m in \u001b[0;36mforward\u001b[0;34m(self, x)\u001b[0m\n\u001b[1;32m     12\u001b[0m     \u001b[0;32mdef\u001b[0m \u001b[0mforward\u001b[0m\u001b[0;34m(\u001b[0m\u001b[0mself\u001b[0m\u001b[0;34m,\u001b[0m \u001b[0mx\u001b[0m\u001b[0;34m)\u001b[0m\u001b[0;34m:\u001b[0m\u001b[0;34m\u001b[0m\u001b[0;34m\u001b[0m\u001b[0m\n\u001b[1;32m     13\u001b[0m         \u001b[0mx\u001b[0m \u001b[0;34m=\u001b[0m \u001b[0mself\u001b[0m\u001b[0;34m.\u001b[0m\u001b[0mpool\u001b[0m\u001b[0;34m(\u001b[0m\u001b[0mF\u001b[0m\u001b[0;34m.\u001b[0m\u001b[0mrelu\u001b[0m\u001b[0;34m(\u001b[0m\u001b[0mself\u001b[0m\u001b[0;34m.\u001b[0m\u001b[0mconv1\u001b[0m\u001b[0;34m(\u001b[0m\u001b[0mx\u001b[0m\u001b[0;34m)\u001b[0m\u001b[0;34m)\u001b[0m\u001b[0;34m)\u001b[0m\u001b[0;34m\u001b[0m\u001b[0;34m\u001b[0m\u001b[0m\n\u001b[0;32m---> 14\u001b[0;31m         \u001b[0mx\u001b[0m \u001b[0;34m=\u001b[0m \u001b[0mself\u001b[0m\u001b[0;34m.\u001b[0m\u001b[0mpool\u001b[0m\u001b[0;34m(\u001b[0m\u001b[0mF\u001b[0m\u001b[0;34m.\u001b[0m\u001b[0mrelu\u001b[0m\u001b[0;34m(\u001b[0m\u001b[0mself\u001b[0m\u001b[0;34m.\u001b[0m\u001b[0mconv2\u001b[0m\u001b[0;34m(\u001b[0m\u001b[0mx\u001b[0m\u001b[0;34m)\u001b[0m\u001b[0;34m)\u001b[0m\u001b[0;34m)\u001b[0m\u001b[0;34m\u001b[0m\u001b[0;34m\u001b[0m\u001b[0m\n\u001b[0m\u001b[1;32m     15\u001b[0m         \u001b[0mx\u001b[0m \u001b[0;34m=\u001b[0m \u001b[0mx\u001b[0m\u001b[0;34m.\u001b[0m\u001b[0mview\u001b[0m\u001b[0;34m(\u001b[0m\u001b[0;34m-\u001b[0m\u001b[0;36m1\u001b[0m\u001b[0;34m,\u001b[0m \u001b[0mself\u001b[0m\u001b[0;34m.\u001b[0m\u001b[0moutput2\u001b[0m \u001b[0;34m*\u001b[0m \u001b[0;36m50\u001b[0m \u001b[0;34m*\u001b[0m \u001b[0;36m50\u001b[0m\u001b[0;34m)\u001b[0m  \u001b[0;31m# Access output2 using self.output2\u001b[0m\u001b[0;34m\u001b[0m\u001b[0;34m\u001b[0m\u001b[0m\n\u001b[1;32m     16\u001b[0m         \u001b[0mx\u001b[0m \u001b[0;34m=\u001b[0m \u001b[0mF\u001b[0m\u001b[0;34m.\u001b[0m\u001b[0mrelu\u001b[0m\u001b[0;34m(\u001b[0m\u001b[0mself\u001b[0m\u001b[0;34m.\u001b[0m\u001b[0mfc1\u001b[0m\u001b[0;34m(\u001b[0m\u001b[0mx\u001b[0m\u001b[0;34m)\u001b[0m\u001b[0;34m)\u001b[0m\u001b[0;34m\u001b[0m\u001b[0;34m\u001b[0m\u001b[0m\n",
            "\u001b[0;32m/usr/local/lib/python3.10/dist-packages/torch/nn/modules/module.py\u001b[0m in \u001b[0;36m_wrapped_call_impl\u001b[0;34m(self, *args, **kwargs)\u001b[0m\n\u001b[1;32m   1516\u001b[0m             \u001b[0;32mreturn\u001b[0m \u001b[0mself\u001b[0m\u001b[0;34m.\u001b[0m\u001b[0m_compiled_call_impl\u001b[0m\u001b[0;34m(\u001b[0m\u001b[0;34m*\u001b[0m\u001b[0margs\u001b[0m\u001b[0;34m,\u001b[0m \u001b[0;34m**\u001b[0m\u001b[0mkwargs\u001b[0m\u001b[0;34m)\u001b[0m  \u001b[0;31m# type: ignore[misc]\u001b[0m\u001b[0;34m\u001b[0m\u001b[0;34m\u001b[0m\u001b[0m\n\u001b[1;32m   1517\u001b[0m         \u001b[0;32melse\u001b[0m\u001b[0;34m:\u001b[0m\u001b[0;34m\u001b[0m\u001b[0;34m\u001b[0m\u001b[0m\n\u001b[0;32m-> 1518\u001b[0;31m             \u001b[0;32mreturn\u001b[0m \u001b[0mself\u001b[0m\u001b[0;34m.\u001b[0m\u001b[0m_call_impl\u001b[0m\u001b[0;34m(\u001b[0m\u001b[0;34m*\u001b[0m\u001b[0margs\u001b[0m\u001b[0;34m,\u001b[0m \u001b[0;34m**\u001b[0m\u001b[0mkwargs\u001b[0m\u001b[0;34m)\u001b[0m\u001b[0;34m\u001b[0m\u001b[0;34m\u001b[0m\u001b[0m\n\u001b[0m\u001b[1;32m   1519\u001b[0m \u001b[0;34m\u001b[0m\u001b[0m\n\u001b[1;32m   1520\u001b[0m     \u001b[0;32mdef\u001b[0m \u001b[0m_call_impl\u001b[0m\u001b[0;34m(\u001b[0m\u001b[0mself\u001b[0m\u001b[0;34m,\u001b[0m \u001b[0;34m*\u001b[0m\u001b[0margs\u001b[0m\u001b[0;34m,\u001b[0m \u001b[0;34m**\u001b[0m\u001b[0mkwargs\u001b[0m\u001b[0;34m)\u001b[0m\u001b[0;34m:\u001b[0m\u001b[0;34m\u001b[0m\u001b[0;34m\u001b[0m\u001b[0m\n",
            "\u001b[0;32m/usr/local/lib/python3.10/dist-packages/torch/nn/modules/module.py\u001b[0m in \u001b[0;36m_call_impl\u001b[0;34m(self, *args, **kwargs)\u001b[0m\n\u001b[1;32m   1525\u001b[0m                 \u001b[0;32mor\u001b[0m \u001b[0m_global_backward_pre_hooks\u001b[0m \u001b[0;32mor\u001b[0m \u001b[0m_global_backward_hooks\u001b[0m\u001b[0;34m\u001b[0m\u001b[0;34m\u001b[0m\u001b[0m\n\u001b[1;32m   1526\u001b[0m                 or _global_forward_hooks or _global_forward_pre_hooks):\n\u001b[0;32m-> 1527\u001b[0;31m             \u001b[0;32mreturn\u001b[0m \u001b[0mforward_call\u001b[0m\u001b[0;34m(\u001b[0m\u001b[0;34m*\u001b[0m\u001b[0margs\u001b[0m\u001b[0;34m,\u001b[0m \u001b[0;34m**\u001b[0m\u001b[0mkwargs\u001b[0m\u001b[0;34m)\u001b[0m\u001b[0;34m\u001b[0m\u001b[0;34m\u001b[0m\u001b[0m\n\u001b[0m\u001b[1;32m   1528\u001b[0m \u001b[0;34m\u001b[0m\u001b[0m\n\u001b[1;32m   1529\u001b[0m         \u001b[0;32mtry\u001b[0m\u001b[0;34m:\u001b[0m\u001b[0;34m\u001b[0m\u001b[0;34m\u001b[0m\u001b[0m\n",
            "\u001b[0;32m/usr/local/lib/python3.10/dist-packages/torch/nn/modules/conv.py\u001b[0m in \u001b[0;36mforward\u001b[0;34m(self, input)\u001b[0m\n\u001b[1;32m    458\u001b[0m \u001b[0;34m\u001b[0m\u001b[0m\n\u001b[1;32m    459\u001b[0m     \u001b[0;32mdef\u001b[0m \u001b[0mforward\u001b[0m\u001b[0;34m(\u001b[0m\u001b[0mself\u001b[0m\u001b[0;34m,\u001b[0m \u001b[0minput\u001b[0m\u001b[0;34m:\u001b[0m \u001b[0mTensor\u001b[0m\u001b[0;34m)\u001b[0m \u001b[0;34m->\u001b[0m \u001b[0mTensor\u001b[0m\u001b[0;34m:\u001b[0m\u001b[0;34m\u001b[0m\u001b[0;34m\u001b[0m\u001b[0m\n\u001b[0;32m--> 460\u001b[0;31m         \u001b[0;32mreturn\u001b[0m \u001b[0mself\u001b[0m\u001b[0;34m.\u001b[0m\u001b[0m_conv_forward\u001b[0m\u001b[0;34m(\u001b[0m\u001b[0minput\u001b[0m\u001b[0;34m,\u001b[0m \u001b[0mself\u001b[0m\u001b[0;34m.\u001b[0m\u001b[0mweight\u001b[0m\u001b[0;34m,\u001b[0m \u001b[0mself\u001b[0m\u001b[0;34m.\u001b[0m\u001b[0mbias\u001b[0m\u001b[0;34m)\u001b[0m\u001b[0;34m\u001b[0m\u001b[0;34m\u001b[0m\u001b[0m\n\u001b[0m\u001b[1;32m    461\u001b[0m \u001b[0;34m\u001b[0m\u001b[0m\n\u001b[1;32m    462\u001b[0m \u001b[0;32mclass\u001b[0m \u001b[0mConv3d\u001b[0m\u001b[0;34m(\u001b[0m\u001b[0m_ConvNd\u001b[0m\u001b[0;34m)\u001b[0m\u001b[0;34m:\u001b[0m\u001b[0;34m\u001b[0m\u001b[0;34m\u001b[0m\u001b[0m\n",
            "\u001b[0;32m/usr/local/lib/python3.10/dist-packages/torch/nn/modules/conv.py\u001b[0m in \u001b[0;36m_conv_forward\u001b[0;34m(self, input, weight, bias)\u001b[0m\n\u001b[1;32m    454\u001b[0m                             \u001b[0mweight\u001b[0m\u001b[0;34m,\u001b[0m \u001b[0mbias\u001b[0m\u001b[0;34m,\u001b[0m \u001b[0mself\u001b[0m\u001b[0;34m.\u001b[0m\u001b[0mstride\u001b[0m\u001b[0;34m,\u001b[0m\u001b[0;34m\u001b[0m\u001b[0;34m\u001b[0m\u001b[0m\n\u001b[1;32m    455\u001b[0m                             _pair(0), self.dilation, self.groups)\n\u001b[0;32m--> 456\u001b[0;31m         return F.conv2d(input, weight, bias, self.stride,\n\u001b[0m\u001b[1;32m    457\u001b[0m                         self.padding, self.dilation, self.groups)\n\u001b[1;32m    458\u001b[0m \u001b[0;34m\u001b[0m\u001b[0m\n",
            "\u001b[0;31mKeyboardInterrupt\u001b[0m: "
          ]
        }
      ],
      "source": [
        "use_cuda = True\n",
        "CNNmodel = CNNLargeNet(10,20)\n",
        "Y = trainSmall(CNNmodel,test_data)"
      ]
    },
    {
      "cell_type": "code",
      "execution_count": null,
      "metadata": {
        "id": "SyOOMBElFczq"
      },
      "outputs": [],
      "source": []
    }
  ],
  "metadata": {
    "colab": {
      "authorship_tag": "ABX9TyNKjhrpRYKfoHxX11YR45Ru",
      "include_colab_link": true,
      "provenance": []
    },
    "kernelspec": {
      "display_name": "Python 3",
      "name": "python3"
    },
    "language_info": {
      "name": "python",
      "version": "3.11.5"
    }
  },
  "nbformat": 4,
  "nbformat_minor": 0
}
