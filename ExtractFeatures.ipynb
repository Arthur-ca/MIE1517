{
  "nbformat": 4,
  "nbformat_minor": 0,
  "metadata": {
    "colab": {
      "provenance": []
    },
    "kernelspec": {
      "name": "python3",
      "display_name": "Python 3"
    },
    "language_info": {
      "name": "python"
    }
  },
  "cells": [
    {
      "cell_type": "markdown",
      "metadata": {
        "id": "view-in-github"
      },
      "source": [
        "<a href=\"https://colab.research.google.com/github/Arthur-ca/MIE1517/blob/Jing-Guo/ExtractFeatures.ipynb\" target=\"_parent\"><img src=\"https://colab.research.google.com/assets/colab-badge.svg\" alt=\"Open In Colab\"/></a>"
      ]
    },
    {
      "cell_type": "code",
      "execution_count": 1,
      "metadata": {
        "id": "QTipa09ekiDK"
      },
      "outputs": [],
      "source": [
        "import torch\n",
        "import numpy as np\n",
        "import os\n",
        "from sklearn.model_selection import train_test_split\n",
        "import random\n",
        "import torchvision\n",
        "from torchvision import datasets, models\n",
        "from collections import defaultdict\n",
        "import torch.nn as nn\n",
        "import torch.nn.functional as F\n",
        "import torchvision.transforms.functional as F1\n",
        "import matplotlib.pyplot as plt\n",
        "import torch.optim as optim\n",
        "import torchvision.transforms as transforms\n",
        "from torch.utils.data.sampler import SubsetRandomSampler\n",
        "from PIL import Image\n",
        "from torch.utils.data import Dataset, DataLoader, TensorDataset, random_split\n",
        "from torchvision.datasets import ImageFolder\n",
        "import tensorflow as tf\n",
        "import gc\n",
        "from collections import Counter\n",
        "import imgaug.augmenters as iaa\n",
        "import cv2\n",
        "import dlib\n",
        "from collections import defaultdict\n",
        "from matplotlib import pyplot as plt"
      ]
    },
    {
      "cell_type": "code",
      "source": [
        "#First link it to google drive and check the subfolder of the data\n",
        "from google.colab import drive\n",
        "drive.mount('/content/gdrive')"
      ],
      "metadata": {
        "colab": {
          "base_uri": "https://localhost:8080/"
        },
        "id": "Ye6z7CKFkplL",
        "outputId": "4ef2265a-e02a-4fcd-c2da-3f719175729d"
      },
      "execution_count": null,
      "outputs": [
        {
          "output_type": "stream",
          "name": "stdout",
          "text": [
            "Drive already mounted at /content/gdrive; to attempt to forcibly remount, call drive.mount(\"/content/gdrive\", force_remount=True).\n"
          ]
        }
      ]
    },
    {
      "cell_type": "code",
      "source": [
        "classeses = []\n",
        "for i in os.listdir('/content/gdrive/My Drive/ColabNotebooks/archive'):\n",
        "    if i!=5:\n",
        "        classeses.append(i)\n",
        "classeses"
      ],
      "metadata": {
        "colab": {
          "base_uri": "https://localhost:8080/"
        },
        "id": "eN-cO8XnkyA4",
        "outputId": "a6c2978d-ac3e-44f3-beb4-51711e06b03d"
      },
      "execution_count": null,
      "outputs": [
        {
          "output_type": "execute_result",
          "data": {
            "text/plain": [
              "['neutrality',\n",
              " 'sadness',\n",
              " 'fear',\n",
              " 'surprise',\n",
              " 'contempt',\n",
              " 'happiness',\n",
              " 'anger',\n",
              " 'disgust']"
            ]
          },
          "metadata": {},
          "execution_count": 3
        }
      ]
    },
    {
      "cell_type": "code",
      "source": [
        "from google.colab import drive\n",
        "drive.mount('/content/gdrive')\n",
        "drive_content = os.listdir('/content/gdrive/My Drive/ColabNotebooks/')\n",
        "print(drive_content)\n"
      ],
      "metadata": {
        "colab": {
          "base_uri": "https://localhost:8080/"
        },
        "id": "mE6ImbSjolLC",
        "outputId": "9b2b508e-8cc7-4d42-87e5-7cff577250db"
      },
      "execution_count": null,
      "outputs": [
        {
          "output_type": "stream",
          "name": "stdout",
          "text": [
            "Drive already mounted at /content/gdrive; to attempt to forcibly remount, call drive.mount(\"/content/gdrive\", force_remount=True).\n",
            "['Untitled0.ipynb', 'Untitled (3)', 'coding_exercises_1_and_2.ipynb', 'Untitled (2)', 'ANN Classification with Lists.ipynb', 'ANN_2layer_example.ipynb', 'A1 (1).ipynb', 'Untitled (1)', 'A1.ipynb', 'A2_Hand_Gesture_Dataset.zip', 'Untitled', 'Lab_3b_Gesture_Dataset', 'ECE1513A1.ipynb', 'SignL', 'new', 'Feature', 'A2.ipynb', 'IMDB Dataset.csv', 'archive', 'shape_predictor_68_face_landmarks.dat']\n"
          ]
        }
      ]
    },
    {
      "cell_type": "code",
      "source": [
        "import cv2\n",
        "import dlib\n",
        "import numpy as np\n",
        "import os\n",
        "from collections import Counter\n",
        "\n",
        "# Initialize Dlib's face detector (HOG-based) and facial landmark predictor\n",
        "detector = dlib.get_frontal_face_detector()\n",
        "predictor = dlib.shape_predictor('/content/shape_predictor_68_face_landmarks.dat')\n",
        "\n",
        "# Function to extract and combine eyes, eyebrows, and mouth into a single image\n",
        "def extract_and_combine_regions(gray, landmarks):\n",
        "    # Create masks for eyes including eyebrows and mouth\n",
        "    mask_eyes_eyebrows = np.zeros_like(gray)\n",
        "    mask_mouth = np.zeros_like(gray)\n",
        "\n",
        "    # Points for eyes and eyebrows\n",
        "    eyes_eyebrows_points = np.concatenate([\n",
        "        np.array([(landmarks.part(n).x, landmarks.part(n).y) for n in range(17, 27)]),  # Eyebrows\n",
        "        np.array([(landmarks.part(n).x, landmarks.part(n).y) for n in range(36, 48)])   # Eyes\n",
        "    ])\n",
        "\n",
        "    # Points for mouth\n",
        "    mouth_points = np.array([(landmarks.part(n).x, landmarks.part(n).y) for n in range(48, 68)])  # Mouth\n",
        "\n",
        "    # Fill the masks with the polygons defined by points\n",
        "    cv2.fillPoly(mask_eyes_eyebrows, [eyes_eyebrows_points], 255)\n",
        "    cv2.fillPoly(mask_mouth, [mouth_points], 255)\n",
        "\n",
        "    # Use the masks to extract the regions from the image\n",
        "    eyes_eyebrows_region = cv2.bitwise_and(gray, mask_eyes_eyebrows)\n",
        "    mouth_region = cv2.bitwise_and(gray, mask_mouth)\n",
        "\n",
        "    # Combine the regions on a black background\n",
        "    combined_image = np.zeros_like(gray)\n",
        "    combined_image[mask_eyes_eyebrows == 255] = eyes_eyebrows_region[mask_eyes_eyebrows == 255]\n",
        "    combined_image[mask_mouth == 255] = mouth_region[mask_mouth == 255]\n",
        "\n",
        "    return combined_image\n",
        "\n",
        "# Your existing code to load images\n",
        "features_or = []\n",
        "labels_or = []\n",
        "train_data_or = []\n",
        "def create_images():\n",
        "    for i, photo in enumerate(classeses):\n",
        "        path = os.path.join('/content/gdrive/My Drive/ColabNotebooks/archive', photo)\n",
        "        label = i  # Use the index of the class as the label\n",
        "\n",
        "        for img_name in os.listdir(path):\n",
        "            img_path = os.path.join(path, img_name)\n",
        "            img = cv2.imread(img_path)\n",
        "\n",
        "            if img is None:\n",
        "                continue\n",
        "\n",
        "            gray = cv2.cvtColor(img, cv2.COLOR_BGR2GRAY)\n",
        "            faces = detector(gray, 1)\n",
        "\n",
        "            if len(faces) > 0:\n",
        "                face = faces[0]\n",
        "                landmarks = predictor(gray, face)\n",
        "                combined_region = extract_and_combine_regions(gray, landmarks)\n",
        "\n",
        "                # Append the combined image and its label to the list\n",
        "                features_or.append(combined_region)  # Append the combined region\n",
        "                labels_or.append(label)\n",
        "\n",
        "                train_data_or.append([combined_region, label])\n",
        "            else:\n",
        "                print(f\"Face not detected in image: {img_path}\")\n",
        "\n",
        "create_images()\n",
        "\n",
        "# Print the label counts\n",
        "label_counts_or = Counter(labels_or)\n",
        "for label, count in label_counts_or.items():\n",
        "    print(f\"Label {label}: {count} images\")"
      ],
      "metadata": {
        "id": "Lj1P_zAt5xMH"
      },
      "execution_count": null,
      "outputs": []
    },
    {
      "cell_type": "code",
      "source": [],
      "metadata": {
        "id": "JtY12Q-w4yYi"
      },
      "execution_count": null,
      "outputs": []
    },
    {
      "cell_type": "code",
      "source": [
        "label_counts = Counter(eyes_labels)\n",
        "\n",
        "# Print the count for each label\n",
        "for label, count in label_counts.items():\n",
        "    print(f\"Label {label}: {count} images\")"
      ],
      "metadata": {
        "colab": {
          "base_uri": "https://localhost:8080/"
        },
        "id": "XIWZpnP5q8xv",
        "outputId": "21440aad-ab43-46d5-c6f7-4839272a7260"
      },
      "execution_count": null,
      "outputs": [
        {
          "output_type": "stream",
          "name": "stdout",
          "text": [
            "Label 0: 419 images\n",
            "Label 1: 448 images\n",
            "Label 2: 372 images\n",
            "Label 3: 610 images\n",
            "Label 4: 142 images\n",
            "Label 5: 896 images\n",
            "Label 6: 585 images\n",
            "Label 7: 292 images\n"
          ]
        }
      ]
    },
    {
      "cell_type": "code",
      "source": [
        "def plot_first_n_images(images, labels, number):\n",
        "    num_labels = len(set(labels))  # Get the number of unique labels\n",
        "    num_rows = (number - 1) // 5 + 1  # Calculate the number of rows needed\n",
        "\n",
        "    fig, axes = plt.subplots(num_rows * num_labels, 5, figsize=(15, 3 * num_rows * num_labels))\n",
        "\n",
        "    label_counts = defaultdict(int)  # Keep track of the count for each label\n",
        "\n",
        "    for i, unique_label in enumerate(set(labels)):\n",
        "        images_for_label = [(img, img_label) for img, img_label in zip(images, labels) if img_label == unique_label]\n",
        "        for j in range(5):\n",
        "            index = i * 5 + j\n",
        "            if index < number*num_labels and j < len(images_for_label):\n",
        "                img, img_label = images_for_label[j]\n",
        "                axes[i, j].imshow(cv2.cvtColor(img, cv2.COLOR_BGR2RGB))\n",
        "                axes[i, j].set_title(f\"Label: {classeses[img_label]}\")\n",
        "                axes[i, j].axis('off')\n",
        "\n",
        "                # Increment the count for the current label\n",
        "                label_counts[img_label] += 1\n",
        "\n",
        "    plt.show()\n",
        "\n",
        "    # Print the count for each label\n",
        "    for label, count in label_counts.items():\n",
        "        print(f\"Label {label}: {count} images\")\n",
        "\n",
        "# Example usage\n",
        "plot_first_n_images(eyes_images, eyes_labels, 5)"
      ],
      "metadata": {
        "colab": {
          "base_uri": "https://localhost:8080/",
          "height": 1000
        },
        "id": "qxy_Y6Izla2c",
        "outputId": "0f858e91-85d0-4502-b390-17db1d733453"
      },
      "execution_count": null,
      "outputs": [
        {
          "output_type": "display_data",
          "data": {
            "text/plain": [
              "<Figure size 1500x2400 with 40 Axes>"
            ],
            "image/png": "[encoded data removed]"
          },
          "metadata": {}
        },
        {
          "output_type": "stream",
          "name": "stdout",
          "text": [
            "Label 0: 5 images\n",
            "Label 1: 5 images\n",
            "Label 2: 5 images\n",
            "Label 3: 5 images\n",
            "Label 4: 5 images\n",
            "Label 5: 5 images\n",
            "Label 6: 5 images\n",
            "Label 7: 5 images\n"
          ]
        }
      ]
    },
    {
      "cell_type": "markdown",
      "source": [
        "Load data for each part of face(eyes, eyebrow, and mouth)"
      ],
      "metadata": {
        "id": "PMPNVYnNgCwV"
      }
    },
    {
      "cell_type": "code",
      "source": [
        "import torch\n",
        "from torchvision import transforms\n",
        "from torch.utils.data import DataLoader, TensorDataset\n",
        "from torch.utils.data import random_split\n",
        "# Preprocess and transform the images\n",
        "transform = transforms.Compose([\n",
        "    transforms.ToTensor(),\n",
        "    # Add any additional transforms you might need\n",
        "])\n",
        "\n",
        "# Convert the processed images and labels into tensors and apply transforms\n",
        "def prepare_dataset(images, labels, transform):\n",
        "    tensor_images = [transform(image) for image in images]\n",
        "    tensor_labels = torch.tensor(labels, dtype=torch.long)\n",
        "    return TensorDataset(torch.stack(tensor_images), tensor_labels)\n",
        "\n",
        "# Prepare datasets for eyes, eyebrows, and mouth\n",
        "eye_dataset = prepare_dataset(eyes_images, eyes_labels, transform)\n",
        "eyebrow_dataset = prepare_dataset(eyebrows_images, eyebrows_labels, transform)\n",
        "mouth_dataset = prepare_dataset(mouth_images, mouth_labels, transform)\n",
        "\n",
        "# split your datasets into training, validation, and test sets with a 60-20-20 percent ratio,\n",
        "def split_dataset(dataset, train_percent=0.60, val_percent=0.20):\n",
        "    total_size = len(dataset)\n",
        "    train_size = int(total_size * train_percent)\n",
        "    val_size = int(total_size * val_percent)\n",
        "    test_size = total_size - train_size - val_size\n",
        "\n",
        "    train_dataset, val_dataset, test_dataset = random_split(dataset, [train_size, val_size, test_size])\n",
        "    return train_dataset, val_dataset, test_dataset\n",
        "\n",
        "# Prepare datasets for eyes, eyebrows, and mouth\n",
        "eye_dataset = prepare_dataset(eyes_images, eyes_labels, transform)\n",
        "eyebrow_dataset = prepare_dataset(eyebrows_images, eyebrows_labels, transform)\n",
        "mouth_dataset = prepare_dataset(mouth_images, mouth_labels, transform)\n",
        "\n",
        "# Split each dataset into training, validation, and test sets\n",
        "eye_train_dataset, eye_val_dataset, eye_test_dataset = split_dataset(eye_dataset)\n",
        "eyebrow_train_dataset, eyebrow_val_dataset, eyebrow_test_dataset = split_dataset(eyebrow_dataset)\n",
        "mouth_train_dataset, mouth_val_dataset, mouth_test_dataset = split_dataset(mouth_dataset)\n",
        "\n",
        "# Create DataLoaders for training and validation for each region\n",
        "eye_train_loader = DataLoader(eye_train_dataset, batch_size=64, shuffle=True)\n",
        "eye_val_loader = DataLoader(eye_val_dataset, batch_size=64, shuffle=False)\n",
        "\n",
        "eyebrow_train_loader = DataLoader(eyebrow_train_dataset, batch_size=64, shuffle=True)\n",
        "eyebrow_val_loader = DataLoader(eyebrow_val_dataset, batch_size=64, shuffle=False)\n",
        "\n",
        "mouth_train_loader = DataLoader(mouth_train_dataset, batch_size=64, shuffle=True)\n",
        "mouth_val_loader = DataLoader(mouth_val_dataset, batch_size=64, shuffle=False)"
      ],
      "metadata": {
        "id": "QbnwMwVQgB6G"
      },
      "execution_count": null,
      "outputs": []
    },
    {
      "cell_type": "markdown",
      "source": [
        "Model"
      ],
      "metadata": {
        "id": "fvTC5oQQNDwz"
      }
    },
    {
      "cell_type": "code",
      "source": [
        "# Model for eyes, eyebrows, and mouth regions\n",
        "class RegionCNN(nn.Module):\n",
        "    def __init__(self, num_classes):\n",
        "        super(RegionCNN, self).__init__()\n",
        "        self.features = nn.Sequential(\n",
        "            nn.Conv2d(1, 32, kernel_size=3, padding=1),\n",
        "            nn.ReLU(),\n",
        "            nn.MaxPool2d(2, 2),\n",
        "            nn.Conv2d(32, 64, kernel_size=3, padding=1),\n",
        "            nn.ReLU(),\n",
        "            nn.MaxPool2d(2, 2),\n",
        "            nn.Conv2d(64, 128, kernel_size=3, padding=1),\n",
        "            nn.ReLU(),\n",
        "            nn.MaxPool2d(2, 2)\n",
        "        )\n",
        "        # Assuming that the input image size is 224x224\n",
        "        self.classifier = nn.Sequential(\n",
        "            nn.Linear(128 * 28 * 28, 1024),  # Adjust size as needed based on  dimensions\n",
        "            nn.ReLU(),\n",
        "            nn.Linear(1024, 512),\n",
        "            nn.ReLU(),\n",
        "            nn.Linear(512, num_classes)\n",
        "        )\n",
        "\n",
        "    def forward(self, x, return_feature_vector=False):\n",
        "        x = self.features(x)\n",
        "        x = x.view(x.size(0), -1)  # Flatten for fully connected layer\n",
        "        x = F.relu(self.classifier[0](x))  # First fully connected layer + ReLU\n",
        "        feature_vector = F.relu(self.classifier[1](x))  # Second fully connected layer + ReLU\n",
        "\n",
        "        if return_feature_vector:\n",
        "            return feature_vector  # Return the feature vector before the final classification layer\n",
        "\n",
        "        x = self.classifier[2](feature_vector)  # Final classification layer\n",
        "        return x\n",
        "\n",
        "# Final model for expression classification\n",
        "class FinalExpressionCNN(nn.Module):\n",
        "    def __init__(self, num_classes, combined_feature_size):\n",
        "        super(FinalExpressionCNN, self).__init__()\n",
        "        self.features = nn.Sequential(\n",
        "            nn.Conv2d(combined_feature_size, 64, kernel_size=3, padding=1),  # combined_feature_size include the depth of concatenated feature maps\n",
        "            nn.ReLU(),\n",
        "            nn.MaxPool2d(2, 2),\n",
        "            nn.Conv2d(64, 128, kernel_size=3, padding=1),\n",
        "            nn.ReLU(),\n",
        "            nn.MaxPool2d(2, 2)\n",
        "        )\n",
        "        # Assuming that the input image size is 224x224\n",
        "        self.classifier = nn.Sequential(\n",
        "            nn.Linear(128 * 56 * 56, 1024),  # Adjust size as needed based on input dimensions\n",
        "            nn.ReLU(),\n",
        "            nn.Linear(1024, num_classes)\n",
        "        )\n",
        "\n",
        "    def forward(self, x, eyebrow_features, eye_features, mouth_features):\n",
        "        # Concatenate the features from the region-specific CNNs with the full face input\n",
        "        combined_features = torch.cat((x, eyebrow_features, eye_features, mouth_features), dim=1)\n",
        "        combined_features = self.features(combined_features)\n",
        "        combined_features = combined_features.view(combined_features.size(0), -1)\n",
        "        x = self.classifier(combined_features)\n",
        "        return x\n",
        "\n",
        "# Example usage\n",
        "num_classes = 8\n",
        "combined_feature_size = 1 + 3 * 128  # 1 for grayscale image, 128 for each of the 3 features\n",
        "eyebrow_model = RegionCNN(num_classes)\n",
        "eye_model = RegionCNN(num_classes)\n",
        "mouth_model = RegionCNN(num_classes)\n",
        "final_model = FinalExpressionCNN(num_classes, combined_feature_size)"
      ],
      "metadata": {
        "colab": {
          "base_uri": "https://localhost:8080/",
          "height": 242
        },
        "id": "PfZ9kbXsNMCL",
        "outputId": "577de3c0-242b-4a7a-86c1-efe5d9211134"
      },
      "execution_count": 9,
      "outputs": [
        {
          "output_type": "error",
          "ename": "NameError",
          "evalue": "ignored",
          "traceback": [
            "\u001b[0;31m---------------------------------------------------------------------------\u001b[0m",
            "\u001b[0;31mNameError\u001b[0m                                 Traceback (most recent call last)",
            "\u001b[0;32m<ipython-input-9-708d381277be>\u001b[0m in \u001b[0;36m<cell line: 2>\u001b[0;34m()\u001b[0m\n\u001b[1;32m      1\u001b[0m \u001b[0;31m# Model for eyes, eyebrows, and mouth regions\u001b[0m\u001b[0;34m\u001b[0m\u001b[0;34m\u001b[0m\u001b[0m\n\u001b[0;32m----> 2\u001b[0;31m \u001b[0;32mclass\u001b[0m \u001b[0mRegionCNN\u001b[0m\u001b[0;34m(\u001b[0m\u001b[0mnn\u001b[0m\u001b[0;34m.\u001b[0m\u001b[0mModule\u001b[0m\u001b[0;34m)\u001b[0m\u001b[0;34m:\u001b[0m\u001b[0;34m\u001b[0m\u001b[0;34m\u001b[0m\u001b[0m\n\u001b[0m\u001b[1;32m      3\u001b[0m     \u001b[0;32mdef\u001b[0m \u001b[0m__init__\u001b[0m\u001b[0;34m(\u001b[0m\u001b[0mself\u001b[0m\u001b[0;34m,\u001b[0m \u001b[0mnum_classes\u001b[0m\u001b[0;34m)\u001b[0m\u001b[0;34m:\u001b[0m\u001b[0;34m\u001b[0m\u001b[0;34m\u001b[0m\u001b[0m\n\u001b[1;32m      4\u001b[0m         \u001b[0msuper\u001b[0m\u001b[0;34m(\u001b[0m\u001b[0mRegionCNN\u001b[0m\u001b[0;34m,\u001b[0m \u001b[0mself\u001b[0m\u001b[0;34m)\u001b[0m\u001b[0;34m.\u001b[0m\u001b[0m__init__\u001b[0m\u001b[0;34m(\u001b[0m\u001b[0;34m)\u001b[0m\u001b[0;34m\u001b[0m\u001b[0;34m\u001b[0m\u001b[0m\n\u001b[1;32m      5\u001b[0m         self.features = nn.Sequential(\n",
            "\u001b[0;31mNameError\u001b[0m: name 'nn' is not defined"
          ]
        }
      ]
    },
    {
      "cell_type": "markdown",
      "source": [
        "Train Region-Specific CNNs (RegionCNN):\n",
        "Train the RegionCNN models separately for each facial region (eyes, eyebrows, mouth) using the corresponding part of the face images.\n"
      ],
      "metadata": {
        "id": "S9HljiuWM4iP"
      }
    },
    {
      "cell_type": "code",
      "source": [
        "def get_model_name(name, batch_size, learning_rate, epoch):\n",
        "    path = \"model_{0}_bs{1}_lr{2}_epoch{3}\".format(name, batch_size, learning_rate, epoch)\n",
        "    return path\n",
        "\n",
        "def evaluate(model, loader):\n",
        "    \"\"\" Evaluate the network \"\"\"\n",
        "    correct = 0\n",
        "    total = 0\n",
        "\n",
        "    for inputs, labels in loader:\n",
        "      if use_cuda and torch.cuda.is_available():\n",
        "        inputs = inputs.cuda()\n",
        "        labels = labels.cuda()\n",
        "\n",
        "      outputs = model(inputs)\n",
        "      predicted = outputs.max(1, keepdim=True)[1]\n",
        "      total += inputs.shape[0]\n",
        "      correct += predicted.eq(labels.view_as(predicted)).sum().item()\n",
        "    return correct / total"
      ],
      "metadata": {
        "id": "jJOE7_uwMj4b"
      },
      "execution_count": 1,
      "outputs": []
    },
    {
      "cell_type": "code",
      "source": [
        "def trainmodel(model, train_dataset, val_dataset, batch=64, learningRate=0.01, num_epochs=300):\n",
        "    criterion = nn.CrossEntropyLoss()\n",
        "    optimizer = optim.Adam(model.parameters(), lr=learningRate)\n",
        "\n",
        "    model_checkpoint_path = 'D:/MIE1517/output'\n",
        "\n",
        "    train_loader = DataLoader(train_dataset, batch_size=batch, shuffle=True)\n",
        "    val_loader = DataLoader(val_dataset, batch_size=batch, shuffle=False)\n",
        "\n",
        "    train_accuracy = np.zeros(num_epochs)\n",
        "    train_losses = np.zeros(num_epochs)\n",
        "    validation_accuracy = np.zeros(num_epochs)\n",
        "    validation_losses = np.zeros(num_epochs)\n",
        "\n",
        "    use_cuda = torch.cuda.is_available()\n",
        "    if use_cuda:\n",
        "        model = model.cuda()\n",
        "\n",
        "    print(\"Training Begin...\\n\")\n",
        "    start_time = time.time()\n",
        "    for epoch in range(num_epochs):\n",
        "        model.train()\n",
        "        running_loss = 0.0\n",
        "        for i, data in enumerate(train_loader, 0):\n",
        "            inputs, labels = data\n",
        "            if use_cuda:\n",
        "                inputs = inputs.cuda()\n",
        "                labels = labels.cuda()\n",
        "            optimizer.zero_grad()\n",
        "            outputs = model(inputs)\n",
        "            loss = criterion(outputs, labels)\n",
        "            loss.backward()\n",
        "            optimizer.step()\n",
        "            running_loss += loss.item()\n",
        "\n",
        "        train_losses[epoch] = running_loss / len(train_loader)\n",
        "        train_accuracy[epoch] = evaluate(model, train_loader)\n",
        "\n",
        "        model.eval()\n",
        "        valid_loss = 0.0\n",
        "        for inputs, labels in val_loader:\n",
        "            if use_cuda:\n",
        "                inputs = inputs.cuda()\n",
        "                labels = labels.cuda()\n",
        "            outputs = model(inputs)\n",
        "            loss = criterion(outputs, labels)\n",
        "            valid_loss += loss.item()\n",
        "\n",
        "        validation_losses[epoch] = valid_loss / len(val_loader)\n",
        "        validation_accuracy[epoch] = evaluate(model, val_loader)\n",
        "\n",
        "        print(f\"Epoch {epoch+1}: Train Acc: {train_accuracy[epoch]:.2f}, Train Loss: {train_losses[epoch]:.4f} | \"\n",
        "              f\"Val Acc: {validation_accuracy[epoch]:.2f}, Val Loss: {validation_losses[epoch]:.4f}\")\n",
        "\n",
        "        model_path = get_model_name(model.name, batch, learningRate, epoch)\n",
        "        model_path = os.path.join(model_checkpoint_path, model_path)\n",
        "        torch.save(model.state_dict(), f\"{model_path}.pt\")\n",
        "\n",
        "    print(\"Finished Training\")\n",
        "    end_time = time.time()\n",
        "    elapsed_time = end_time - start_time\n",
        "    print(f\"Total time elapsed: {elapsed_time:.2f} seconds\")\n",
        "\n",
        "    # Plotting\n",
        "    epochs = np.arange(1, num_epochs + 1)\n",
        "    plt.figure(figsize=(14, 7))\n",
        "\n",
        "    plt.subplot(2, 1, 1)\n",
        "    plt.title(\"Training and Validation Loss\")\n",
        "    plt.plot(epochs, train_losses, label=\"Train Loss\")\n",
        "    plt.plot(epochs, validation_losses, label=\"Validation Loss\")\n",
        "    plt.xlabel(\"Epochs\")\n",
        "    plt.ylabel(\"Loss\")\n",
        "    plt.legend()\n",
        "\n",
        "    plt.subplot(2, 1, 2)\n",
        "    plt.title(\"Training and Validation Accuracy\")\n",
        "    plt.plot(epochs, train_accuracy, label=\"Train Accuracy\")\n",
        "    plt.plot(epochs, validation_accuracy, label=\"Validation Accuracy\")\n",
        "    plt.xlabel(\"Epochs\")\n",
        "    plt.ylabel(\"Accuracy\")\n",
        "    plt.legend()\n",
        "\n",
        "    plt.tight_layout()\n",
        "    plt.show()\n",
        "\n",
        "    return train_losses, train_accuracy, validation_losses, validation_accuracy"
      ],
      "metadata": {
        "id": "8e7qEp9tMkSD"
      },
      "execution_count": 2,
      "outputs": []
    },
    {
      "cell_type": "code",
      "source": [
        "eye_training = trainmodel(eye_model, eye_train_dataset, eye_val_dataset, batch=64, learningRate=0.01, num_epochs=300)\n",
        "eyebrow_training = trainmodel(eyebrow_model, eyebrow_train_dataset, eyebrow_val_dataset, batch=64, learningRate=0.01, num_epochs=300)\n",
        "mouth_training = trainmodel(mouth_model, mouth_train_dataset, mouth_val_dataset, batch=64, learningRate=0.01, num_epochs=300)"
      ],
      "metadata": {
        "id": "-OngiRpsNqwG"
      },
      "execution_count": null,
      "outputs": []
    },
    {
      "cell_type": "markdown",
      "source": [
        "Extract Features Using Trained RegionCNNs\n",
        "\n",
        "Once each RegionCNN is trained, use them to extract features from their respective regions on the training dataset. This means running each region image through its corresponding RegionCNN and saving the output features (just before the final classification layer).\n",
        "These features are what the FinalExpressionCNN will use, so you need to save them in a format that can be used for further training."
      ],
      "metadata": {
        "id": "jmI2yx8wNcxZ"
      }
    },
    {
      "cell_type": "code",
      "source": [
        "def extract_features(model, loader):\n",
        "    model.eval()  # Set the model to evaluation mode\n",
        "    features = []\n",
        "    with torch.no_grad():  # Disable gradient computation\n",
        "        for inputs, _ in loader:\n",
        "            if torch.cuda.is_available():\n",
        "                inputs = inputs.cuda()\n",
        "            feature_vector = model(inputs, return_feature_vector=True)\n",
        "            features.append(feature_vector.cpu())  # If using GPU, move to CPU\n",
        "    return torch.cat(features)  # Concatenate all features into a single tensor"
      ],
      "metadata": {
        "id": "mavH4IG1Nd3f"
      },
      "execution_count": 3,
      "outputs": []
    },
    {
      "cell_type": "code",
      "source": [
        "#training feature\n",
        "eye_features_train = extract_features(eye_model, eye_train_loader)\n",
        "eyebrow_features_train = extract_features(eyebrow_model, eyebrow_train_loader)\n",
        "mouth_features_train = extract_features(mouth_model, mouth_train_loader)\n",
        "#validation feature\n",
        "eye_features_val = extract_features(eye_model, eye_val_loader)\n",
        "eyebrow_features_val = extract_features(eyebrow_model, eyebrow_val_loader)\n",
        "mouth_features_val = extract_features(mouth_model, mouth_val_loader)"
      ],
      "metadata": {
        "id": "QpRq_du6Pm6G"
      },
      "execution_count": null,
      "outputs": []
    },
    {
      "cell_type": "markdown",
      "source": [
        "Combine Extracted Features:\n",
        "Combine the extracted features from each RegionCNN into a single, larger feature vector for each image."
      ],
      "metadata": {
        "id": "zzSXw7BSQBwW"
      }
    },
    {
      "cell_type": "code",
      "source": [
        "def combine_features(eye_features, eyebrow_features, mouth_features):\n",
        "    combined = torch.cat((eye_features, eyebrow_features, mouth_features), dim=1)\n",
        "    return combined\n",
        ""
      ],
      "metadata": {
        "id": "sdP4Flj3QB4C"
      },
      "execution_count": null,
      "outputs": []
    },
    {
      "cell_type": "code",
      "source": [
        "combine_features_train = combine_features(eye_features_val, eyebrow_features_val, mouth_features_val)\n",
        "combine_features_val = combine_features(eye_features_val, eyebrow_features_val, mouth_features_val)"
      ],
      "metadata": {
        "id": "JPodve_nQIqq"
      },
      "execution_count": null,
      "outputs": []
    },
    {
      "cell_type": "markdown",
      "source": [
        "Train FinalExpressionCNN:\n",
        "Use these combined feature vectors as input to FinalExpressionCNN.\n",
        "Train FinalExpressionCNN to classify expressions based on the combined feature"
      ],
      "metadata": {
        "id": "WloC1AQ6QWPS"
      }
    },
    {
      "cell_type": "code",
      "source": [
        "combined_labels = torch.tensor(labels_or) #根据guojin的code来的 可能实际测试的时候要改一下\n",
        "\n",
        "# Create a new TensorDataset for combined features and labels\n",
        "combined_train_dataset = torch.utils.data.TensorDataset(combine_features_train, combined_labels)\n",
        "combined_train_loader = DataLoader(combined_train_dataset, batch_size=64, shuffle=True)\n",
        "\n",
        "# validation dataset\n",
        "\n",
        "combined_val_dataset = torch.utils.data.TensorDataset(combine_features_val, combined_labels) # create combined dataset for validation\n",
        "combined_val_loader = DataLoader(combined_val_dataset, batch_size=64, shuffle=False)\n",
        "\n",
        "# Train the final model using the combined datasets\n",
        "final_training = trainmodel(final_model, combined_train_loader, combined_val_loader, batch=64, learningRate=0.01, num_epochs=300)"
      ],
      "metadata": {
        "id": "vO6IRJaeQc5H"
      },
      "execution_count": null,
      "outputs": []
    },
    {
      "cell_type": "markdown",
      "source": [
        "Full System Inference:\n",
        "In the operational phase, when run inference to predict expressions, I will pass the new image through each RegionCNN to extract features and then through the FinalExpressionCNN to get the final expression classification."
      ],
      "metadata": {
        "id": "0iEmjOlIQz5U"
      }
    },
    {
      "cell_type": "code",
      "source": [
        "# 可以先不管这个part， 这个是给新的dataset用的\n",
        "\n",
        "def full_system_inference(models, final_model, image):\n",
        "    # Assume `models` is a list of trained region-specific models in the order: [eye_model, eyebrow_model, mouth_model]\n",
        "    features = []\n",
        "    for model in models:\n",
        "        region = extract_region_from_image(image, model.region)  # This function needs to be implemented\n",
        "        feature = extract_features(model, region)\n",
        "        features.append(feature)\n",
        "\n",
        "    combined_feature = combine_features(*features)\n",
        "    final_output = final_model(combined_feature.unsqueeze(0))  # Add batch dimension\n",
        "    return final_output"
      ],
      "metadata": {
        "id": "GyjetN3LQx0r"
      },
      "execution_count": null,
      "outputs": []
    }
  ]
}