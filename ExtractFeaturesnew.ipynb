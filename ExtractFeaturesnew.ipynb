{
  "nbformat": 4,
  "nbformat_minor": 0,
  "metadata": {
    "colab": {
      "provenance": [],
      "machine_shape": "hm",
      "include_colab_link": true
    },
    "kernelspec": {
      "name": "python3",
      "display_name": "Python 3"
    },
    "language_info": {
      "name": "python"
    },
    "accelerator": "TPU"
  },
  "cells": [
    {
      "cell_type": "markdown",
      "metadata": {
        "id": "view-in-github",
        "colab_type": "text"
      },
      "source": [
        "<a href=\"https://colab.research.google.com/github/Arthur-ca/MIE1517/blob/Jing-Guo/ExtractFeaturesnew.ipynb\" target=\"_parent\"><img src=\"https://colab.research.google.com/assets/colab-badge.svg\" alt=\"Open In Colab\"/></a>"
      ]
    },
    {
      "cell_type": "code",
      "execution_count": 1,
      "metadata": {
        "id": "QTipa09ekiDK"
      },
      "outputs": [],
      "source": [
        "import torch\n",
        "import numpy as np\n",
        "import os\n",
        "from sklearn.model_selection import train_test_split\n",
        "import random\n",
        "import torchvision\n",
        "from torchvision import datasets, models\n",
        "from collections import defaultdict\n",
        "import torch.nn as nn\n",
        "import torch.nn.functional as F\n",
        "import torchvision.transforms.functional as F1\n",
        "import matplotlib.pyplot as plt\n",
        "import torch.optim as optim\n",
        "import torchvision.transforms as transforms\n",
        "from torch.utils.data.sampler import SubsetRandomSampler\n",
        "from PIL import Image\n",
        "from torch.utils.data import Dataset, DataLoader, TensorDataset, random_split\n",
        "from torchvision.datasets import ImageFolder\n",
        "import tensorflow as tf\n",
        "import gc\n",
        "from collections import Counter\n",
        "import imgaug.augmenters as iaa\n",
        "import cv2\n",
        "import dlib\n",
        "from collections import defaultdict\n",
        "from matplotlib import pyplot as plt"
      ]
    },
    {
      "cell_type": "code",
      "source": [
        "#First link it to google drive and check the subfolder of the data\n",
        "from google.colab import drive\n",
        "drive.mount('/content/gdrive')"
      ],
      "metadata": {
        "colab": {
          "base_uri": "https://localhost:8080/"
        },
        "id": "Ye6z7CKFkplL",
        "outputId": "78d96ad0-e715-4746-906a-48184f746a1c"
      },
      "execution_count": 2,
      "outputs": [
        {
          "output_type": "stream",
          "name": "stdout",
          "text": [
            "Mounted at /content/gdrive\n"
          ]
        }
      ]
    },
    {
      "cell_type": "code",
      "source": [
        "classeses = []\n",
        "for i in os.listdir('/content/gdrive/My Drive/ColabNotebooks/archive'):\n",
        "    if i!=5:\n",
        "        classeses.append(i)\n",
        "classeses"
      ],
      "metadata": {
        "colab": {
          "base_uri": "https://localhost:8080/"
        },
        "id": "eN-cO8XnkyA4",
        "outputId": "cc539205-cdf6-4240-f62f-9581e5f0bffa"
      },
      "execution_count": 3,
      "outputs": [
        {
          "output_type": "execute_result",
          "data": {
            "text/plain": [
              "['neutrality',\n",
              " 'sadness',\n",
              " 'fear',\n",
              " 'surprise',\n",
              " 'contempt',\n",
              " 'happiness',\n",
              " 'anger',\n",
              " 'disgust']"
            ]
          },
          "metadata": {},
          "execution_count": 3
        }
      ]
    },
    {
      "cell_type": "code",
      "source": [
        "!wget http://dlib.net/files/shape_predictor_68_face_landmarks.dat.bz2\n",
        "!bzip2 -d shape_predictor_68_face_landmarks.dat.bz2"
      ],
      "metadata": {
        "colab": {
          "base_uri": "https://localhost:8080/"
        },
        "id": "S235pOsn-nUE",
        "outputId": "dec5fbbc-ec04-4924-b946-4996b989b491"
      },
      "execution_count": null,
      "outputs": [
        {
          "output_type": "stream",
          "name": "stdout",
          "text": [
            "--2023-11-28 22:09:02--  http://dlib.net/files/shape_predictor_68_face_landmarks.dat.bz2\n",
            "Resolving dlib.net (dlib.net)... 107.180.26.78\n",
            "Connecting to dlib.net (dlib.net)|107.180.26.78|:80... connected.\n",
            "HTTP request sent, awaiting response... 200 OK\n",
            "Length: 64040097 (61M)\n",
            "Saving to: ‘shape_predictor_68_face_landmarks.dat.bz2.1’\n",
            "\n",
            "shape_predictor_68_ 100%[===================>]  61.07M  15.7MB/s    in 6.1s    \n",
            "\n",
            "2023-11-28 22:09:08 (10.0 MB/s) - ‘shape_predictor_68_face_landmarks.dat.bz2.1’ saved [64040097/64040097]\n",
            "\n",
            "bzip2: Output file shape_predictor_68_face_landmarks.dat already exists.\n"
          ]
        }
      ]
    },
    {
      "cell_type": "code",
      "source": [
        "import cv2\n",
        "import dlib\n",
        "import numpy as np\n",
        "import os\n",
        "from collections import Counter\n",
        "\n",
        "# Initialize Dlib's face detector (HOG-based) and facial landmark predictor\n",
        "detector = dlib.get_frontal_face_detector()\n",
        "predictor = dlib.shape_predictor('/content/gdrive/My Drive/ColabNotebooks/shape_predictor_68_face_landmarks.dat')\n",
        "\n",
        "# Function to extract and combine eyes, eyebrows, and mouth into a single image\n",
        "def extract_and_combine_regions(gray, landmarks):\n",
        "    # Create masks for eyes including eyebrows and mouth\n",
        "    mask_eyes_eyebrows = np.zeros_like(gray)\n",
        "    mask_mouth = np.zeros_like(gray)\n",
        "\n",
        "    # Points for eyes and eyebrows\n",
        "    eyes_eyebrows_points = np.concatenate([\n",
        "        np.array([(landmarks.part(n).x, landmarks.part(n).y) for n in range(17, 27)]),  # Eyebrows\n",
        "        np.array([(landmarks.part(n).x, landmarks.part(n).y) for n in range(36, 48)])   # Eyes\n",
        "    ])\n",
        "\n",
        "    # Points for mouth\n",
        "    mouth_points = np.array([(landmarks.part(n).x, landmarks.part(n).y) for n in range(48, 68)])  # Mouth\n",
        "\n",
        "    # Fill the masks with the polygons defined by points\n",
        "    cv2.fillPoly(mask_eyes_eyebrows, [eyes_eyebrows_points], 255)\n",
        "    cv2.fillPoly(mask_mouth, [mouth_points], 255)\n",
        "\n",
        "    # Use the masks to extract the regions from the image\n",
        "    eyes_eyebrows_region = cv2.bitwise_and(gray, mask_eyes_eyebrows)\n",
        "    mouth_region = cv2.bitwise_and(gray, mask_mouth)\n",
        "\n",
        "    # Combine the regions on a black background\n",
        "    combined_image = np.zeros_like(gray)\n",
        "    combined_image[mask_eyes_eyebrows == 255] = eyes_eyebrows_region[mask_eyes_eyebrows == 255]\n",
        "    combined_image[mask_mouth == 255] = mouth_region[mask_mouth == 255]\n",
        "\n",
        "    return combined_image\n",
        "\n",
        "# Your existing code to load images\n",
        "features_or = []\n",
        "labels_or = []\n",
        "train_data_or = []\n",
        "failed_indices = []\n",
        "def create_images():\n",
        "    for i, photo in enumerate(classeses):\n",
        "        path = os.path.join('/content/gdrive/My Drive/ColabNotebooks/archive', photo)\n",
        "        label = i  # Use the index of the class as the label\n",
        "\n",
        "        for img_name in os.listdir(path):\n",
        "            img_path = os.path.join(path, img_name)\n",
        "            img = cv2.imread(img_path)\n",
        "\n",
        "            if img is None:\n",
        "                continue\n",
        "\n",
        "            # Convert the image to grayscale\n",
        "            gray = cv2.cvtColor(img, cv2.COLOR_BGR2GRAY)\n",
        "\n",
        "            # Apply CLAHE to improve the contrast locally\n",
        "            clahe = cv2.createCLAHE(clipLimit=2.0, tileGridSize=(8, 8))\n",
        "            gray_clahe = clahe.apply(gray)\n",
        "\n",
        "            # Detect faces in the CLAHE preprocessed image\n",
        "            faces = detector(gray_clahe, 1)\n",
        "\n",
        "            # If no faces are detected with CLAHE, try standard histogram equalization\n",
        "            if len(faces) == 0:\n",
        "                gray_eq = cv2.equalizeHist(gray)\n",
        "                faces = detector(gray_eq, 1)\n",
        "                image_to_use = gray_eq\n",
        "            else:\n",
        "                image_to_use = gray_clahe\n",
        "\n",
        "            if len(faces) > 0:\n",
        "                face = faces[0]\n",
        "                landmarks = predictor(image_to_use, face)\n",
        "                combined_region = extract_and_combine_regions(image_to_use, landmarks)\n",
        "\n",
        "                # Append the combined image and its label to the list\n",
        "                features_or.append(combined_region)  # Append the combined region\n",
        "                labels_or.append(label)\n",
        "\n",
        "                train_data_or.append([combined_region, label])\n",
        "            else:\n",
        "                failed_indices.append(i)\n",
        "\n",
        "create_images()\n",
        "# Print the label counts\n",
        "label_counts_or = Counter(labels_or)\n",
        "for label, count in label_counts_or.items():\n",
        "    print(f\"Label {label}: {count} images\")"
      ],
      "metadata": {
        "id": "Lj1P_zAt5xMH",
        "colab": {
          "base_uri": "https://localhost:8080/"
        },
        "outputId": "0b5cd23f-54af-416a-9c74-8a88915b704e"
      },
      "execution_count": 4,
      "outputs": [
        {
          "output_type": "stream",
          "name": "stdout",
          "text": [
            "Label 0: 419 images\n",
            "Label 1: 448 images\n",
            "Label 2: 372 images\n",
            "Label 3: 610 images\n",
            "Label 4: 142 images\n",
            "Label 5: 896 images\n",
            "Label 6: 585 images\n",
            "Label 7: 292 images\n"
          ]
        }
      ]
    },
    {
      "cell_type": "code",
      "source": [
        "# Initialize Dlib's face detector (HOG-based) and facial landmark predictor\n",
        "detector = dlib.get_frontal_face_detector()\n",
        "predictor = dlib.shape_predictor('/content/shape_predictor_68_face_landmarks.dat')\n",
        "\n",
        "# Function to extract and combine eyes, eyebrows, and mouth into a single image\n",
        "def extract_and_combine_regions(gray, landmarks):\n",
        "    # Create masks for eyes including eyebrows and mouth\n",
        "    mask_eyes_eyebrows = np.zeros_like(gray)\n",
        "    mask_mouth = np.zeros_like(gray)\n",
        "\n",
        "    # Points for eyes and eyebrows\n",
        "    eyes_eyebrows_points = np.concatenate([\n",
        "        np.array([(landmarks.part(n).x, landmarks.part(n).y) for n in range(17, 27)]),  # Eyebrows\n",
        "        np.array([(landmarks.part(n).x, landmarks.part(n).y) for n in range(36, 48)])   # Eyes\n",
        "    ])\n",
        "\n",
        "    # Points for mouth\n",
        "    mouth_points = np.array([(landmarks.part(n).x, landmarks.part(n).y) for n in range(48, 68)])  # Mouth\n",
        "\n",
        "    # Fill the masks with the polygons defined by points\n",
        "    cv2.fillPoly(mask_eyes_eyebrows, [eyes_eyebrows_points], 255)\n",
        "    cv2.fillPoly(mask_mouth, [mouth_points], 255)\n",
        "\n",
        "    # Use the masks to extract the regions from the image\n",
        "    eyes_eyebrows_region = cv2.bitwise_and(gray, mask_eyes_eyebrows)\n",
        "    mouth_region = cv2.bitwise_and(gray, mask_mouth)\n",
        "\n",
        "    # Combine the regions on a black background\n",
        "    combined_image = np.zeros_like(gray)\n",
        "    combined_image[mask_eyes_eyebrows == 255] = eyes_eyebrows_region[mask_eyes_eyebrows == 255]\n",
        "    combined_image[mask_mouth == 255] = mouth_region[mask_mouth == 255]\n",
        "\n",
        "    return combined_image\n",
        "def create_images_and_save(directory, save_originals_dir, save_combined_dir):\n",
        "    features_or = []\n",
        "    labels_or = []\n",
        "    train_data_or = []\n",
        "    failed_indices = []\n",
        "\n",
        "    # Create subdirectories for each label in both save directories\n",
        "    for label in classeses:\n",
        "        os.makedirs(os.path.join(save_originals_dir, label), exist_ok=True)\n",
        "        os.makedirs(os.path.join(save_combined_dir, label), exist_ok=True)\n",
        "\n",
        "    for i, photo in enumerate(classeses):\n",
        "        path = os.path.join(directory, photo)\n",
        "        label = photo  # Use the name of the folder as the label\n",
        "\n",
        "        for img_name in os.listdir(path):\n",
        "            img_path = os.path.join(path, img_name)\n",
        "            img = cv2.imread(img_path)\n",
        "\n",
        "            if img is None:\n",
        "                continue\n",
        "\n",
        "            # Convert the image to grayscale and apply CLAHE\n",
        "            gray = cv2.cvtColor(img, cv2.COLOR_BGR2GRAY)\n",
        "            # Apply CLAHE to improve the contrast locally\n",
        "            clahe = cv2.createCLAHE(clipLimit=2.0, tileGridSize=(8, 8))\n",
        "            gray_clahe = clahe.apply(gray)\n",
        "\n",
        "            # Detect faces in the CLAHE preprocessed image\n",
        "            faces = detector(gray_clahe, 1)\n",
        "            # If no faces are detected with CLAHE, try standard histogram equalization\n",
        "            if len(faces) == 0:\n",
        "                gray_eq = cv2.equalizeHist(gray)\n",
        "                faces = detector(gray_eq, 1)\n",
        "                image_to_use = gray_eq\n",
        "            else:\n",
        "                image_to_use = gray_clahe\n",
        "\n",
        "            if len(faces) > 0:\n",
        "                face = faces[0]\n",
        "                landmarks = predictor(image_to_use, face)\n",
        "                combined_region = extract_and_combine_regions(image_to_use, landmarks)\n",
        "\n",
        "                # Define paths for saving images\n",
        "                original_img_path = os.path.join(save_originals_dir, label, img_name)\n",
        "                combined_img_path = os.path.join(save_combined_dir, label, img_name)\n",
        "\n",
        "                # Save the original and combined images\n",
        "                cv2.imwrite(original_img_path, img)  # Save original image\n",
        "                cv2.imwrite(combined_img_path, combined_region)  # Save combined image\n",
        "\n",
        "                # Append the combined image and its label to the list\n",
        "                features_or.append(combined_region)\n",
        "                labels_or.append(i)  # We use the index for the label here\n",
        "\n",
        "                train_data_or.append([combined_region, i])  # Append the combined region and label index\n",
        "            else:\n",
        "                failed_indices.append(i)\n",
        "\n",
        "    return features_or, labels_or, train_data_or, failed_indices\n",
        "\n",
        "# Call the function with updated paths\n",
        "dataset_directory = '/content/gdrive/MyDrive/MIE1517/Hands/archive'\n",
        "save_originals_directory = '/content/saved_original'\n",
        "save_combined_directory = '/content/saved_combine'\n",
        "\n",
        "features_or, labels_or, train_data_or, failed_indices = create_images_and_save(\n",
        "    dataset_directory,\n",
        "    save_originals_directory,\n",
        "    save_combined_directory\n",
        ")\n",
        "\n",
        "# Print the label counts and failed indices\n",
        "label_counts_or = Counter(labels_or)\n",
        "for label, count in label_counts_or.items():\n",
        "    print(f\"Label {label}: {count} images\")"
      ],
      "metadata": {
        "id": "_YuJmD3FWWeU"
      },
      "execution_count": null,
      "outputs": []
    },
    {
      "cell_type": "code",
      "source": [
        "for label, count in label_counts_or.items():\n",
        "    print(f\"Label {label} {classeses[label]}: {count} images\")"
      ],
      "metadata": {
        "colab": {
          "base_uri": "https://localhost:8080/"
        },
        "id": "fHic0IusjQki",
        "outputId": "b064d1fd-b5e4-4716-a280-64860fe742a8"
      },
      "execution_count": 5,
      "outputs": [
        {
          "output_type": "stream",
          "name": "stdout",
          "text": [
            "Label 0 neutrality: 419 images\n",
            "Label 1 sadness: 448 images\n",
            "Label 2 fear: 372 images\n",
            "Label 3 surprise: 610 images\n",
            "Label 4 contempt: 142 images\n",
            "Label 5 happiness: 896 images\n",
            "Label 6 anger: 585 images\n",
            "Label 7 disgust: 292 images\n"
          ]
        }
      ]
    },
    {
      "cell_type": "code",
      "source": [
        "features_or_array = np.array(features_or)  # Convert features to a NumPy array for indexing\n",
        "labels_or_array = np.array(labels_or)  # Convert labels to a NumPy array for indexing\n",
        "\n",
        "# Define the labels you want to extract\n",
        "desired_labels = [1, 5]\n",
        "\n",
        "# Create a mask to filter the indices corresponding to the desired labels\n",
        "mask = np.isin(labels_or_array, desired_labels)\n",
        "\n",
        "# Extract features and labels corresponding to the desired labels\n",
        "features_filtered = features_or_array[mask]\n",
        "labels_filtered = labels_or_array[mask]\n",
        "# Verify the shapes and sizes of the extracted features and labels\n",
        "label_counts_or_filtered = Counter(labels_filtered)\n",
        "for label, count in label_counts_or_filtered.items():\n",
        "    print(f\"Label {label} {classeses[label]}: {count} images\")\n",
        "print(\"Filtered Features Shape:\", features_filtered.shape)\n",
        "print(\"Filtered Labels Shape:\", labels_filtered.shape)"
      ],
      "metadata": {
        "colab": {
          "base_uri": "https://localhost:8080/"
        },
        "id": "Z8-sIf6llu1H",
        "outputId": "fa43bea7-5868-460a-d8e3-8071bf547c7b"
      },
      "execution_count": 6,
      "outputs": [
        {
          "output_type": "stream",
          "name": "stdout",
          "text": [
            "Label 1 sadness: 448 images\n",
            "Label 5 happiness: 896 images\n",
            "Filtered Features Shape: (1344, 224, 224)\n",
            "Filtered Labels Shape: (1344,)\n"
          ]
        }
      ]
    },
    {
      "cell_type": "code",
      "source": [
        "import matplotlib.pyplot as plt\n",
        "from collections import defaultdict\n",
        "import numpy as np\n",
        "import cv2\n",
        "\n",
        "def plot_first_n_images(images, labels, classes, n=5):\n",
        "    num_unique_labels = len(np.unique(labels))  # Get the number of unique labels\n",
        "    fig, axes = plt.subplots(num_unique_labels, n, figsize=(n*2, num_unique_labels*2))\n",
        "\n",
        "    # Initialize a dictionary to store image indices for each label\n",
        "    label_indices = defaultdict(list)\n",
        "\n",
        "    # Populate the dictionary with indices of images for each label\n",
        "    for index, label in enumerate(labels):\n",
        "        label_indices[label].append(index)\n",
        "\n",
        "    # Plot 'n' images for each unique label\n",
        "    for label_idx, label in enumerate(np.unique(labels)):\n",
        "        indices = label_indices[label][:n]  # Get the first 'n' indices for this label\n",
        "        for img_idx, img_index in enumerate(indices):\n",
        "            axes[label_idx, img_idx].imshow(images[img_index], cmap='gray')\n",
        "            axes[label_idx, img_idx].set_title(f\"Label: {classes[label]}\")\n",
        "            axes[label_idx, img_idx].axis('off')\n",
        "\n",
        "    plt.tight_layout()\n",
        "    plt.show()\n",
        "\n",
        "# plot each emotion\n",
        "#plot_first_n_images(features_or, labels_or, classeses, n=5)"
      ],
      "metadata": {
        "id": "7B-x6IAHU1o4"
      },
      "execution_count": 7,
      "outputs": []
    },
    {
      "cell_type": "code",
      "source": [
        "plot_first_n_images(features_filtered, labels_filtered, classeses, n=5)"
      ],
      "metadata": {
        "colab": {
          "base_uri": "https://localhost:8080/",
          "height": 410
        },
        "id": "dgM9NV7Sniu7",
        "outputId": "97100b66-2de8-493e-c7c4-7d779a2322c8"
      },
      "execution_count": 8,
      "outputs": [
        {
          "output_type": "display_data",
          "data": {
            "text/plain": [
              "<Figure size 1000x400 with 10 Axes>"
            ],
            "image/png": "[encoded data removed]"
          },
          "metadata": {}
        }
      ]
    },
    {
      "cell_type": "code",
      "source": [
        "labels_filtered = np.array(labels_filtered)\n",
        "\n",
        "# Change value 1 to 0 and value 5 to 1\n",
        "labels_filtered[labels_filtered == 1] = 0\n",
        "labels_filtered[labels_filtered == 5] = 1\n",
        "np.unique(labels_filtered)"
      ],
      "metadata": {
        "colab": {
          "base_uri": "https://localhost:8080/"
        },
        "id": "x8GrUUaU3vxd",
        "outputId": "4f1c26f0-768b-44c0-a47a-475dca41955d"
      },
      "execution_count": 71,
      "outputs": [
        {
          "output_type": "execute_result",
          "data": {
            "text/plain": [
              "array([0, 1])"
            ]
          },
          "metadata": {},
          "execution_count": 71
        }
      ]
    },
    {
      "cell_type": "code",
      "source": [
        "import torch\n",
        "from torchvision import transforms\n",
        "from torch.utils.data import DataLoader, TensorDataset\n",
        "from torch.utils.data import random_split\n",
        "# Preprocess and transform the images\n",
        "transform = transforms.Compose([\n",
        "    transforms.ToTensor(),\n",
        "    # Add any additional transforms you might need\n",
        "])\n",
        "\n",
        "# Convert the processed images and labels into tensors and apply transforms\n",
        "def prepare_dataset(images, labels, transform):\n",
        "    tensor_images = [transform(image) for image in images]\n",
        "    tensor_labels = torch.tensor(labels, dtype=torch.long)\n",
        "    return TensorDataset(torch.stack(tensor_images), tensor_labels)\n",
        "\n",
        "# Prepare datasets for eyes, eyebrows, and mouth\n",
        "combined_dataset = prepare_dataset(features_filtered, labels_filtered, transform)\n",
        "\n",
        "# split your datasets into training, validation, and test sets with a 60-20-20 percent ratio,\n",
        "def split_dataset(dataset, train_percent=0.60, val_percent=0.20):\n",
        "    total_size = len(dataset)\n",
        "    train_size = int(total_size * train_percent)\n",
        "    val_size = int(total_size * val_percent)\n",
        "    test_size = total_size - train_size - val_size\n",
        "\n",
        "    train_dataset, val_dataset, test_dataset = random_split(dataset, [train_size, val_size, test_size])\n",
        "    return train_dataset, val_dataset, test_dataset"
      ],
      "metadata": {
        "id": "QbnwMwVQgB6G"
      },
      "execution_count": 72,
      "outputs": []
    },
    {
      "cell_type": "code",
      "source": [
        "# Split each dataset into training, validation, and test sets\n",
        "combined_train_dataset, combined_val_dataset, combined_test_dataset = split_dataset(combined_dataset)\n",
        "\n",
        "\n",
        "# Create DataLoaders for training and validation for each region\n",
        "Combined_train_loader = DataLoader(combined_train_dataset, batch_size=64, shuffle=True)\n",
        "Combined_val_loader = DataLoader(combined_val_dataset, batch_size=64, shuffle=False)\n",
        "Combined_test_loader = DataLoader(combined_test_dataset, batch_size=64, shuffle=False)"
      ],
      "metadata": {
        "id": "cXok2r7rpgLc"
      },
      "execution_count": 75,
      "outputs": []
    },
    {
      "cell_type": "markdown",
      "source": [
        "Model"
      ],
      "metadata": {
        "id": "fvTC5oQQNDwz"
      }
    },
    {
      "cell_type": "code",
      "source": [
        "import torch.nn as nn\n",
        "import torch.nn.functional as F\n",
        "\n",
        "class CombinedCNN(nn.Module):\n",
        "    def __init__(self, num_classes):\n",
        "        super(CombinedCNN, self).__init__()\n",
        "\n",
        "        # Define convolutional layers using nn.Sequential\n",
        "        self.conv_layers = nn.Sequential(\n",
        "            # Convolutional Layer 1\n",
        "            nn.Conv2d(1, 32, kernel_size=3, padding=1),  # Assuming input channels = 1 (grayscale)\n",
        "            nn.ReLU(),\n",
        "            nn.MaxPool2d(2, 2),\n",
        "\n",
        "            # Convolutional Layer 2\n",
        "            nn.Conv2d(32, 64, kernel_size=3, padding=1),\n",
        "            nn.ReLU(),\n",
        "            nn.MaxPool2d(2, 2),\n",
        "\n",
        "            # Convolutional Layer 3\n",
        "            nn.Conv2d(64, 128, kernel_size=3, padding=1),\n",
        "            nn.ReLU(),\n",
        "            nn.MaxPool2d(2, 2),\n",
        "\n",
        "            # Convolutional Layer 4\n",
        "            nn.Conv2d(128, 256, kernel_size=3, padding=1),\n",
        "            nn.ReLU(),\n",
        "            nn.MaxPool2d(2, 2),\n",
        "\n",
        "            # Convolutional Layer 5\n",
        "            nn.Conv2d(256, 512, kernel_size=3, padding=1),\n",
        "            nn.ReLU(),\n",
        "            nn.MaxPool2d(2, 2),\n",
        "        )\n",
        "\n",
        "        # Define fully connected layers using nn.Sequential\n",
        "        self.fc_layers = nn.Sequential(\n",
        "            nn.Linear(512 * 7 * 7, 1024),\n",
        "            nn.ReLU(),\n",
        "            nn.Dropout(0.5),\n",
        "            nn.Linear(1024, num_classes)\n",
        "        )\n",
        "        self.name = \"CombinedCNN\"\n",
        "    def forward(self, x):\n",
        "        # Apply convolutional layers\n",
        "        x = self.conv_layers(x)\n",
        "\n",
        "        # Flatten the output for the fully connected layers\n",
        "        x = x.view(-1, 512 * 7 * 7)\n",
        "\n",
        "        # Apply fully connected layers\n",
        "        x = self.fc_layers(x)\n",
        "\n",
        "        return x\n",
        "\n"
      ],
      "metadata": {
        "id": "PfZ9kbXsNMCL"
      },
      "execution_count": 13,
      "outputs": []
    },
    {
      "cell_type": "code",
      "source": [
        "class CNNetResidual(nn.Module):\n",
        "    def __init__(self, num_classes=10, num_in_channels=1):\n",
        "        super().__init__()\n",
        "\n",
        "        # Downward path\n",
        "        self.downconv1 = nn.Sequential(\n",
        "            nn.Conv2d(num_in_channels, 32, kernel_size=8, stride=2, padding=1),\n",
        "            nn.BatchNorm2d(32),\n",
        "            nn.ReLU(),\n",
        "            nn.MaxPool2d(2),\n",
        "            ResidualBlock(32, 64)\n",
        "        )\n",
        "\n",
        "        self.downconv2 = nn.Sequential(\n",
        "            nn.Conv2d(96, 128, kernel_size=7, padding=1,stride = 2),  # Fix the number of input channels\n",
        "            nn.BatchNorm2d(128),\n",
        "            nn.ReLU(),\n",
        "            nn.MaxPool2d(2),\n",
        "            ResidualBlock(128, 256)\n",
        "        )\n",
        "\n",
        "        self.fc_layers = nn.Sequential(\n",
        "            nn.Linear(384 * 13 * 13, 1024),  # Adjust the input size here\n",
        "            nn.ReLU(),\n",
        "            nn.Dropout(0.5),\n",
        "            nn.Linear(1024, num_classes)\n",
        "        )\n",
        "\n",
        "        self.name = \"CNNetResidual\"\n",
        "\n",
        "    def forward(self, x):\n",
        "        out = self.downconv1(x)\n",
        "        out = self.downconv2(out)\n",
        "\n",
        "        out = out.view(out.size(0), -1)  # Flatten before passing to fully connected layers\n",
        "        out = self.fc_layers(out)\n",
        "        return out\n",
        "\n",
        "class ResidualBlock(nn.Module):\n",
        "    def __init__(self, in_channels, out_channels):\n",
        "        super(ResidualBlock, self).__init__()\n",
        "\n",
        "        # First 1x1 Convolution\n",
        "        self.conv1 = nn.Conv2d(in_channels, out_channels, kernel_size=1)\n",
        "        self.relu1 = nn.ReLU()\n",
        "\n",
        "        # Second 3x3 Convolution\n",
        "        self.conv2 = nn.Conv2d(out_channels, out_channels, kernel_size=3, padding=1)\n",
        "        self.relu2 = nn.ReLU()\n",
        "\n",
        "    def forward(self, x):\n",
        "        identity = x\n",
        "\n",
        "        # Main Path\n",
        "        out = self.relu1(self.conv1(x))\n",
        "        out = self.relu2(self.conv2(out))\n",
        "\n",
        "        # Skip Connection\n",
        "        out = torch.cat([out, identity], dim=1)\n",
        "        out = F.relu(out)\n",
        "        return out"
      ],
      "metadata": {
        "id": "UcAPLboZeMJf"
      },
      "execution_count": 84,
      "outputs": []
    },
    {
      "cell_type": "code",
      "source": [
        "random_input = torch.randn(1, 1, 224, 224)  # Assuming num_in_channels is 1\n",
        "random_input2 = torch.randn(64,32, 55, 55)\n",
        "# Instantiate the model\n",
        "model = CNNetResidual(2)\n",
        "\n",
        "# Pass the input through the model\n",
        "output = model(random_input)\n",
        "# Print the output tensor size\n",
        "print(\"Output Tensor Size:\", output.size())"
      ],
      "metadata": {
        "colab": {
          "base_uri": "https://localhost:8080/"
        },
        "id": "nXQg58c7epXA",
        "outputId": "2d5fcf73-720f-4dbb-b3f9-121e5ba4aa06"
      },
      "execution_count": 69,
      "outputs": [
        {
          "output_type": "stream",
          "name": "stdout",
          "text": [
            "Output Tensor Size: torch.Size([1, 2])\n"
          ]
        }
      ]
    },
    {
      "cell_type": "code",
      "source": [
        "random_input2 = torch.randn(1, 32, 55, 55)\n",
        "model2 = ResidualBlock(32, 32)\n",
        "output2 = model2(random_input2)\n",
        "print(\"Output2 Tensor Size:\", output2.size())"
      ],
      "metadata": {
        "colab": {
          "base_uri": "https://localhost:8080/"
        },
        "id": "nq1CFcaqiwXw",
        "outputId": "589a5543-bf0e-498f-92ee-a922de78996a"
      },
      "execution_count": 60,
      "outputs": [
        {
          "output_type": "stream",
          "name": "stdout",
          "text": [
            "Output2 Tensor Size: torch.Size([1, 64, 55, 55])\n"
          ]
        }
      ]
    },
    {
      "cell_type": "markdown",
      "source": [
        "Train Region-Specific CNNs (RegionCNN):\n",
        "Train the RegionCNN models separately for each facial region (eyes, eyebrows, mouth) using the corresponding part of the face images.\n"
      ],
      "metadata": {
        "id": "S9HljiuWM4iP"
      }
    },
    {
      "cell_type": "code",
      "source": [
        "def get_model_name(name, batch_size, learning_rate, epoch):\n",
        "    path = \"model_{0}_bs{1}_lr{2}_epoch{3}\".format(name, batch_size, learning_rate, epoch)\n",
        "    return path\n",
        "\n",
        "def evaluate(model, loader):\n",
        "    \"\"\" Evaluate the network \"\"\"\n",
        "    correct = 0\n",
        "    total = 0\n",
        "\n",
        "    for inputs, labels in loader:\n",
        "      if use_cuda and torch.cuda.is_available():\n",
        "        inputs = inputs.cuda()\n",
        "        labels = labels.cuda()\n",
        "\n",
        "      outputs = model(inputs)\n",
        "      predicted = outputs.max(1, keepdim=True)[1]\n",
        "      total += inputs.shape[0]\n",
        "      correct += predicted.eq(labels.view_as(predicted)).sum().item()\n",
        "    return correct / total"
      ],
      "metadata": {
        "id": "jJOE7_uwMj4b"
      },
      "execution_count": 10,
      "outputs": []
    },
    {
      "cell_type": "code",
      "source": [
        "import time\n",
        "def trainmodel(model, train_dataset, val_dataset, batch=64, learningRate=0.001, num_epochs=300):\n",
        "    criterion = nn.CrossEntropyLoss()\n",
        "    optimizer = optim.Adam(model.parameters(), lr=learningRate)\n",
        "\n",
        "    model_checkpoint_path = '/content/gdrive/My Drive/ColabNotebooks/new'\n",
        "\n",
        "    train_loader = DataLoader(train_dataset, batch_size=batch, shuffle=True)\n",
        "    val_loader = DataLoader(val_dataset, batch_size=batch, shuffle=False)\n",
        "\n",
        "    train_accuracy = np.zeros(num_epochs)\n",
        "    train_losses = np.zeros(num_epochs)\n",
        "    validation_accuracy = np.zeros(num_epochs)\n",
        "    validation_losses = np.zeros(num_epochs)\n",
        "\n",
        "    use_cuda = torch.cuda.is_available()\n",
        "    if use_cuda:\n",
        "        model = model.cuda()\n",
        "\n",
        "    print(\"Training Begin...\\n\")\n",
        "    start_time = time.time()\n",
        "    for epoch in range(num_epochs):\n",
        "        model.train()\n",
        "        running_loss = 0.0\n",
        "        for i, data in enumerate(train_loader, 0):\n",
        "            inputs, labels = data\n",
        "            if use_cuda:\n",
        "                inputs = inputs.cuda()\n",
        "                labels = labels.cuda()\n",
        "            optimizer.zero_grad()\n",
        "            outputs = model(inputs)\n",
        "            loss = criterion(outputs, labels)\n",
        "            loss.backward()\n",
        "            optimizer.step()\n",
        "            running_loss += loss.item()\n",
        "\n",
        "        train_losses[epoch] = running_loss / len(train_loader)\n",
        "        train_accuracy[epoch] = evaluate(model, train_loader)\n",
        "\n",
        "        model.eval()\n",
        "        valid_loss = 0.0\n",
        "        for inputs, labels in val_loader:\n",
        "            if use_cuda:\n",
        "                inputs = inputs.cuda()\n",
        "                labels = labels.cuda()\n",
        "            outputs = model(inputs)\n",
        "            loss = criterion(outputs, labels)\n",
        "            valid_loss += loss.item()\n",
        "\n",
        "        validation_losses[epoch] = valid_loss / len(val_loader)\n",
        "        validation_accuracy[epoch] = evaluate(model, val_loader)\n",
        "\n",
        "        print(f\"Epoch {epoch+1}: Train Acc: {train_accuracy[epoch]:.2f}, Train Loss: {train_losses[epoch]:.4f} | \"\n",
        "              f\"Val Acc: {validation_accuracy[epoch]:.2f}, Val Loss: {validation_losses[epoch]:.4f}\")\n",
        "\n",
        "        model_path = get_model_name(model.name, batch, learningRate, epoch)\n",
        "        model_path = os.path.join(model_checkpoint_path, model_path)\n",
        "        torch.save(model.state_dict(), f\"{model_path}.pt\")\n",
        "        print(print(f\"Saved model checkpoint: {model_path}\"))\n",
        "\n",
        "    print(\"Finished Training\")\n",
        "    end_time = time.time()\n",
        "    elapsed_time = end_time - start_time\n",
        "    print(f\"Total time elapsed: {elapsed_time:.2f} seconds\")\n",
        "\n",
        "    # Plotting\n",
        "    epochs = np.arange(1, num_epochs + 1)\n",
        "    plt.figure(figsize=(14, 7))\n",
        "\n",
        "    plt.subplot(2, 1, 1)\n",
        "    plt.title(\"Training and Validation Loss\")\n",
        "    plt.plot(epochs, train_losses, label=\"Train Loss\")\n",
        "    plt.plot(epochs, validation_losses, label=\"Validation Loss\")\n",
        "    plt.xlabel(\"Epochs\")\n",
        "    plt.ylabel(\"Loss\")\n",
        "    plt.legend()\n",
        "\n",
        "    plt.subplot(2, 1, 2)\n",
        "    plt.title(\"Training and Validation Accuracy\")\n",
        "    plt.plot(epochs, train_accuracy, label=\"Train Accuracy\")\n",
        "    plt.plot(epochs, validation_accuracy, label=\"Validation Accuracy\")\n",
        "    plt.xlabel(\"Epochs\")\n",
        "    plt.ylabel(\"Accuracy\")\n",
        "    plt.legend()\n",
        "\n",
        "    plt.tight_layout()\n",
        "    plt.show()\n",
        "\n",
        "    return train_losses, train_accuracy, validation_losses, validation_accuracy"
      ],
      "metadata": {
        "id": "8e7qEp9tMkSD"
      },
      "execution_count": 11,
      "outputs": []
    },
    {
      "cell_type": "code",
      "source": [
        "use_cuda = True\n",
        "num_classes = 8\n",
        "combined_model = CombinedCNN(num_classes)\n",
        "Model1 = trainmodel(combined_model, combined_train_dataset, combined_val_dataset, batch=64, learningRate=0.01, num_epochs=60)\n"
      ],
      "metadata": {
        "id": "-OngiRpsNqwG"
      },
      "execution_count": null,
      "outputs": []
    },
    {
      "cell_type": "code",
      "source": [
        "use_cuda = True\n",
        "num_classes = 2\n",
        "combined_model = CNNetResidual(2)\n",
        "Model1 = trainmodel(combined_model, combined_train_dataset, combined_val_dataset, batch=64, learningRate=0.0001, num_epochs=60)"
      ],
      "metadata": {
        "colab": {
          "base_uri": "https://localhost:8080/",
          "height": 1000
        },
        "id": "9yUejd6FZiC1",
        "outputId": "65bae29c-bbac-4bd1-e144-3c735201f1c3"
      },
      "execution_count": 73,
      "outputs": [
        {
          "output_type": "stream",
          "name": "stdout",
          "text": [
            "Training Begin...\n",
            "\n",
            "Epoch 1: Train Acc: 0.70, Train Loss: 0.9906 | Val Acc: 0.76, Val Loss: 0.6234\n",
            "Saved model checkpoint: /content/gdrive/My Drive/ColabNotebooks/new/model_CNNetResidual_bs64_lr0.0001_epoch0\n",
            "None\n",
            "Epoch 2: Train Acc: 0.77, Train Loss: 0.5111 | Val Acc: 0.77, Val Loss: 0.4229\n",
            "Saved model checkpoint: /content/gdrive/My Drive/ColabNotebooks/new/model_CNNetResidual_bs64_lr0.0001_epoch1\n",
            "None\n",
            "Epoch 3: Train Acc: 0.76, Train Loss: 0.4337 | Val Acc: 0.76, Val Loss: 0.4413\n",
            "Saved model checkpoint: /content/gdrive/My Drive/ColabNotebooks/new/model_CNNetResidual_bs64_lr0.0001_epoch2\n",
            "None\n",
            "Epoch 4: Train Acc: 0.86, Train Loss: 0.4054 | Val Acc: 0.81, Val Loss: 0.3439\n",
            "Saved model checkpoint: /content/gdrive/My Drive/ColabNotebooks/new/model_CNNetResidual_bs64_lr0.0001_epoch3\n",
            "None\n",
            "Epoch 5: Train Acc: 0.87, Train Loss: 0.3485 | Val Acc: 0.79, Val Loss: 0.3522\n",
            "Saved model checkpoint: /content/gdrive/My Drive/ColabNotebooks/new/model_CNNetResidual_bs64_lr0.0001_epoch4\n",
            "None\n",
            "Epoch 6: Train Acc: 0.90, Train Loss: 0.3027 | Val Acc: 0.79, Val Loss: 0.3656\n",
            "Saved model checkpoint: /content/gdrive/My Drive/ColabNotebooks/new/model_CNNetResidual_bs64_lr0.0001_epoch5\n",
            "None\n",
            "Epoch 7: Train Acc: 0.92, Train Loss: 0.2479 | Val Acc: 0.79, Val Loss: 0.3415\n",
            "Saved model checkpoint: /content/gdrive/My Drive/ColabNotebooks/new/model_CNNetResidual_bs64_lr0.0001_epoch6\n",
            "None\n",
            "Epoch 8: Train Acc: 0.92, Train Loss: 0.2197 | Val Acc: 0.81, Val Loss: 0.3744\n",
            "Saved model checkpoint: /content/gdrive/My Drive/ColabNotebooks/new/model_CNNetResidual_bs64_lr0.0001_epoch7\n",
            "None\n",
            "Epoch 9: Train Acc: 0.97, Train Loss: 0.2016 | Val Acc: 0.82, Val Loss: 0.3196\n",
            "Saved model checkpoint: /content/gdrive/My Drive/ColabNotebooks/new/model_CNNetResidual_bs64_lr0.0001_epoch8\n",
            "None\n",
            "Epoch 10: Train Acc: 0.98, Train Loss: 0.1384 | Val Acc: 0.82, Val Loss: 0.3284\n",
            "Saved model checkpoint: /content/gdrive/My Drive/ColabNotebooks/new/model_CNNetResidual_bs64_lr0.0001_epoch9\n",
            "None\n",
            "Epoch 11: Train Acc: 0.99, Train Loss: 0.0888 | Val Acc: 0.83, Val Loss: 0.3295\n",
            "Saved model checkpoint: /content/gdrive/My Drive/ColabNotebooks/new/model_CNNetResidual_bs64_lr0.0001_epoch10\n",
            "None\n",
            "Epoch 12: Train Acc: 1.00, Train Loss: 0.0611 | Val Acc: 0.82, Val Loss: 0.3528\n",
            "Saved model checkpoint: /content/gdrive/My Drive/ColabNotebooks/new/model_CNNetResidual_bs64_lr0.0001_epoch11\n",
            "None\n",
            "Epoch 13: Train Acc: 1.00, Train Loss: 0.0353 | Val Acc: 0.84, Val Loss: 0.3391\n",
            "Saved model checkpoint: /content/gdrive/My Drive/ColabNotebooks/new/model_CNNetResidual_bs64_lr0.0001_epoch12\n",
            "None\n",
            "Epoch 14: Train Acc: 1.00, Train Loss: 0.0224 | Val Acc: 0.84, Val Loss: 0.3891\n",
            "Saved model checkpoint: /content/gdrive/My Drive/ColabNotebooks/new/model_CNNetResidual_bs64_lr0.0001_epoch13\n",
            "None\n",
            "Epoch 15: Train Acc: 1.00, Train Loss: 0.0165 | Val Acc: 0.82, Val Loss: 0.3988\n",
            "Saved model checkpoint: /content/gdrive/My Drive/ColabNotebooks/new/model_CNNetResidual_bs64_lr0.0001_epoch14\n",
            "None\n",
            "Epoch 16: Train Acc: 1.00, Train Loss: 0.0095 | Val Acc: 0.84, Val Loss: 0.4063\n",
            "Saved model checkpoint: /content/gdrive/My Drive/ColabNotebooks/new/model_CNNetResidual_bs64_lr0.0001_epoch15\n",
            "None\n",
            "Epoch 17: Train Acc: 1.00, Train Loss: 0.0059 | Val Acc: 0.84, Val Loss: 0.4226\n",
            "Saved model checkpoint: /content/gdrive/My Drive/ColabNotebooks/new/model_CNNetResidual_bs64_lr0.0001_epoch16\n",
            "None\n",
            "Epoch 18: Train Acc: 1.00, Train Loss: 0.0045 | Val Acc: 0.85, Val Loss: 0.4271\n",
            "Saved model checkpoint: /content/gdrive/My Drive/ColabNotebooks/new/model_CNNetResidual_bs64_lr0.0001_epoch17\n",
            "None\n",
            "Epoch 19: Train Acc: 1.00, Train Loss: 0.0031 | Val Acc: 0.83, Val Loss: 0.4524\n",
            "Saved model checkpoint: /content/gdrive/My Drive/ColabNotebooks/new/model_CNNetResidual_bs64_lr0.0001_epoch18\n",
            "None\n"
          ]
        },
        {
          "output_type": "error",
          "ename": "KeyboardInterrupt",
          "evalue": "ignored",
          "traceback": [
            "\u001b[0;31m---------------------------------------------------------------------------\u001b[0m",
            "\u001b[0;31mKeyboardInterrupt\u001b[0m                         Traceback (most recent call last)",
            "\u001b[0;32m<ipython-input-73-0eec63bf9f76>\u001b[0m in \u001b[0;36m<cell line: 4>\u001b[0;34m()\u001b[0m\n\u001b[1;32m      2\u001b[0m \u001b[0mnum_classes\u001b[0m \u001b[0;34m=\u001b[0m \u001b[0;36m2\u001b[0m\u001b[0;34m\u001b[0m\u001b[0;34m\u001b[0m\u001b[0m\n\u001b[1;32m      3\u001b[0m \u001b[0mcombined_model\u001b[0m \u001b[0;34m=\u001b[0m \u001b[0mCNNetResidual\u001b[0m\u001b[0;34m(\u001b[0m\u001b[0;36m2\u001b[0m\u001b[0;34m)\u001b[0m\u001b[0;34m\u001b[0m\u001b[0;34m\u001b[0m\u001b[0m\n\u001b[0;32m----> 4\u001b[0;31m \u001b[0mModel1\u001b[0m \u001b[0;34m=\u001b[0m \u001b[0mtrainmodel\u001b[0m\u001b[0;34m(\u001b[0m\u001b[0mcombined_model\u001b[0m\u001b[0;34m,\u001b[0m \u001b[0mcombined_train_dataset\u001b[0m\u001b[0;34m,\u001b[0m \u001b[0mcombined_val_dataset\u001b[0m\u001b[0;34m,\u001b[0m \u001b[0mbatch\u001b[0m\u001b[0;34m=\u001b[0m\u001b[0;36m64\u001b[0m\u001b[0;34m,\u001b[0m \u001b[0mlearningRate\u001b[0m\u001b[0;34m=\u001b[0m\u001b[0;36m0.0001\u001b[0m\u001b[0;34m,\u001b[0m \u001b[0mnum_epochs\u001b[0m\u001b[0;34m=\u001b[0m\u001b[0;36m60\u001b[0m\u001b[0;34m)\u001b[0m\u001b[0;34m\u001b[0m\u001b[0;34m\u001b[0m\u001b[0m\n\u001b[0m",
            "\u001b[0;32m<ipython-input-11-d5df6bd4830f>\u001b[0m in \u001b[0;36mtrainmodel\u001b[0;34m(model, train_dataset, val_dataset, batch, learningRate, num_epochs)\u001b[0m\n\u001b[1;32m     36\u001b[0m \u001b[0;34m\u001b[0m\u001b[0m\n\u001b[1;32m     37\u001b[0m         \u001b[0mtrain_losses\u001b[0m\u001b[0;34m[\u001b[0m\u001b[0mepoch\u001b[0m\u001b[0;34m]\u001b[0m \u001b[0;34m=\u001b[0m \u001b[0mrunning_loss\u001b[0m \u001b[0;34m/\u001b[0m \u001b[0mlen\u001b[0m\u001b[0;34m(\u001b[0m\u001b[0mtrain_loader\u001b[0m\u001b[0;34m)\u001b[0m\u001b[0;34m\u001b[0m\u001b[0;34m\u001b[0m\u001b[0m\n\u001b[0;32m---> 38\u001b[0;31m         \u001b[0mtrain_accuracy\u001b[0m\u001b[0;34m[\u001b[0m\u001b[0mepoch\u001b[0m\u001b[0;34m]\u001b[0m \u001b[0;34m=\u001b[0m \u001b[0mevaluate\u001b[0m\u001b[0;34m(\u001b[0m\u001b[0mmodel\u001b[0m\u001b[0;34m,\u001b[0m \u001b[0mtrain_loader\u001b[0m\u001b[0;34m)\u001b[0m\u001b[0;34m\u001b[0m\u001b[0;34m\u001b[0m\u001b[0m\n\u001b[0m\u001b[1;32m     39\u001b[0m \u001b[0;34m\u001b[0m\u001b[0m\n\u001b[1;32m     40\u001b[0m         \u001b[0mmodel\u001b[0m\u001b[0;34m.\u001b[0m\u001b[0meval\u001b[0m\u001b[0;34m(\u001b[0m\u001b[0;34m)\u001b[0m\u001b[0;34m\u001b[0m\u001b[0;34m\u001b[0m\u001b[0m\n",
            "\u001b[0;32m<ipython-input-10-03df760128b4>\u001b[0m in \u001b[0;36mevaluate\u001b[0;34m(model, loader)\u001b[0m\n\u001b[1;32m     14\u001b[0m \u001b[0;34m\u001b[0m\u001b[0m\n\u001b[1;32m     15\u001b[0m       \u001b[0moutputs\u001b[0m \u001b[0;34m=\u001b[0m \u001b[0mmodel\u001b[0m\u001b[0;34m(\u001b[0m\u001b[0minputs\u001b[0m\u001b[0;34m)\u001b[0m\u001b[0;34m\u001b[0m\u001b[0;34m\u001b[0m\u001b[0m\n\u001b[0;32m---> 16\u001b[0;31m       \u001b[0mpredicted\u001b[0m \u001b[0;34m=\u001b[0m \u001b[0moutputs\u001b[0m\u001b[0;34m.\u001b[0m\u001b[0mmax\u001b[0m\u001b[0;34m(\u001b[0m\u001b[0;36m1\u001b[0m\u001b[0;34m,\u001b[0m \u001b[0mkeepdim\u001b[0m\u001b[0;34m=\u001b[0m\u001b[0;32mTrue\u001b[0m\u001b[0;34m)\u001b[0m\u001b[0;34m[\u001b[0m\u001b[0;36m1\u001b[0m\u001b[0;34m]\u001b[0m\u001b[0;34m\u001b[0m\u001b[0;34m\u001b[0m\u001b[0m\n\u001b[0m\u001b[1;32m     17\u001b[0m       \u001b[0mtotal\u001b[0m \u001b[0;34m+=\u001b[0m \u001b[0minputs\u001b[0m\u001b[0;34m.\u001b[0m\u001b[0mshape\u001b[0m\u001b[0;34m[\u001b[0m\u001b[0;36m0\u001b[0m\u001b[0;34m]\u001b[0m\u001b[0;34m\u001b[0m\u001b[0;34m\u001b[0m\u001b[0m\n\u001b[1;32m     18\u001b[0m       \u001b[0mcorrect\u001b[0m \u001b[0;34m+=\u001b[0m \u001b[0mpredicted\u001b[0m\u001b[0;34m.\u001b[0m\u001b[0meq\u001b[0m\u001b[0;34m(\u001b[0m\u001b[0mlabels\u001b[0m\u001b[0;34m.\u001b[0m\u001b[0mview_as\u001b[0m\u001b[0;34m(\u001b[0m\u001b[0mpredicted\u001b[0m\u001b[0;34m)\u001b[0m\u001b[0;34m)\u001b[0m\u001b[0;34m.\u001b[0m\u001b[0msum\u001b[0m\u001b[0;34m(\u001b[0m\u001b[0;34m)\u001b[0m\u001b[0;34m.\u001b[0m\u001b[0mitem\u001b[0m\u001b[0;34m(\u001b[0m\u001b[0;34m)\u001b[0m\u001b[0;34m\u001b[0m\u001b[0;34m\u001b[0m\u001b[0m\n",
            "\u001b[0;31mKeyboardInterrupt\u001b[0m: "
          ]
        }
      ]
    },
    {
      "cell_type": "code",
      "source": [
        "num_classes = 2\n",
        "combined_model2 = CNNetResidual(2)\n",
        "Model1 = trainmodel(combined_model2, combined_train_dataset, combined_val_dataset, batch=64, learningRate=0.00001, num_epochs=30)"
      ],
      "metadata": {
        "colab": {
          "base_uri": "https://localhost:8080/",
          "height": 1000
        },
        "id": "XPwKxTxXr6dL",
        "outputId": "b8d605a1-a0a3-41be-f129-c1d09fcef523"
      },
      "execution_count": 85,
      "outputs": [
        {
          "output_type": "stream",
          "name": "stdout",
          "text": [
            "Training Begin...\n",
            "\n",
            "Epoch 1: Train Acc: 0.73, Train Loss: 0.6196 | Val Acc: 0.74, Val Loss: 0.6487\n",
            "Saved model checkpoint: /content/gdrive/My Drive/ColabNotebooks/new/model_CNNetResidual_bs64_lr1e-05_epoch0\n",
            "None\n",
            "Epoch 2: Train Acc: 0.82, Train Loss: 0.4734 | Val Acc: 0.75, Val Loss: 0.5185\n",
            "Saved model checkpoint: /content/gdrive/My Drive/ColabNotebooks/new/model_CNNetResidual_bs64_lr1e-05_epoch1\n",
            "None\n",
            "Epoch 3: Train Acc: 0.84, Train Loss: 0.4252 | Val Acc: 0.79, Val Loss: 0.3886\n",
            "Saved model checkpoint: /content/gdrive/My Drive/ColabNotebooks/new/model_CNNetResidual_bs64_lr1e-05_epoch2\n",
            "None\n",
            "Epoch 4: Train Acc: 0.85, Train Loss: 0.3846 | Val Acc: 0.79, Val Loss: 0.3752\n",
            "Saved model checkpoint: /content/gdrive/My Drive/ColabNotebooks/new/model_CNNetResidual_bs64_lr1e-05_epoch3\n",
            "None\n",
            "Epoch 5: Train Acc: 0.87, Train Loss: 0.3400 | Val Acc: 0.79, Val Loss: 0.3647\n",
            "Saved model checkpoint: /content/gdrive/My Drive/ColabNotebooks/new/model_CNNetResidual_bs64_lr1e-05_epoch4\n",
            "None\n",
            "Epoch 6: Train Acc: 0.88, Train Loss: 0.3175 | Val Acc: 0.80, Val Loss: 0.3501\n",
            "Saved model checkpoint: /content/gdrive/My Drive/ColabNotebooks/new/model_CNNetResidual_bs64_lr1e-05_epoch5\n",
            "None\n",
            "Epoch 7: Train Acc: 0.88, Train Loss: 0.2766 | Val Acc: 0.79, Val Loss: 0.3764\n",
            "Saved model checkpoint: /content/gdrive/My Drive/ColabNotebooks/new/model_CNNetResidual_bs64_lr1e-05_epoch6\n",
            "None\n",
            "Epoch 8: Train Acc: 0.90, Train Loss: 0.2665 | Val Acc: 0.80, Val Loss: 0.3493\n",
            "Saved model checkpoint: /content/gdrive/My Drive/ColabNotebooks/new/model_CNNetResidual_bs64_lr1e-05_epoch7\n",
            "None\n",
            "Epoch 9: Train Acc: 0.93, Train Loss: 0.2459 | Val Acc: 0.81, Val Loss: 0.3240\n",
            "Saved model checkpoint: /content/gdrive/My Drive/ColabNotebooks/new/model_CNNetResidual_bs64_lr1e-05_epoch8\n",
            "None\n",
            "Epoch 10: Train Acc: 0.93, Train Loss: 0.2344 | Val Acc: 0.82, Val Loss: 0.3296\n",
            "Saved model checkpoint: /content/gdrive/My Drive/ColabNotebooks/new/model_CNNetResidual_bs64_lr1e-05_epoch9\n",
            "None\n",
            "Epoch 11: Train Acc: 0.96, Train Loss: 0.2017 | Val Acc: 0.83, Val Loss: 0.3125\n",
            "Saved model checkpoint: /content/gdrive/My Drive/ColabNotebooks/new/model_CNNetResidual_bs64_lr1e-05_epoch10\n",
            "None\n",
            "Epoch 12: Train Acc: 0.95, Train Loss: 0.1774 | Val Acc: 0.82, Val Loss: 0.3235\n",
            "Saved model checkpoint: /content/gdrive/My Drive/ColabNotebooks/new/model_CNNetResidual_bs64_lr1e-05_epoch11\n",
            "None\n",
            "Epoch 13: Train Acc: 0.98, Train Loss: 0.1701 | Val Acc: 0.83, Val Loss: 0.3013\n",
            "Saved model checkpoint: /content/gdrive/My Drive/ColabNotebooks/new/model_CNNetResidual_bs64_lr1e-05_epoch12\n",
            "None\n",
            "Epoch 14: Train Acc: 0.98, Train Loss: 0.1461 | Val Acc: 0.82, Val Loss: 0.3092\n",
            "Saved model checkpoint: /content/gdrive/My Drive/ColabNotebooks/new/model_CNNetResidual_bs64_lr1e-05_epoch13\n",
            "None\n",
            "Epoch 15: Train Acc: 0.98, Train Loss: 0.1293 | Val Acc: 0.82, Val Loss: 0.2962\n",
            "Saved model checkpoint: /content/gdrive/My Drive/ColabNotebooks/new/model_CNNetResidual_bs64_lr1e-05_epoch14\n",
            "None\n",
            "Epoch 16: Train Acc: 0.99, Train Loss: 0.1118 | Val Acc: 0.83, Val Loss: 0.3021\n",
            "Saved model checkpoint: /content/gdrive/My Drive/ColabNotebooks/new/model_CNNetResidual_bs64_lr1e-05_epoch15\n",
            "None\n",
            "Epoch 17: Train Acc: 0.99, Train Loss: 0.1070 | Val Acc: 0.82, Val Loss: 0.2963\n",
            "Saved model checkpoint: /content/gdrive/My Drive/ColabNotebooks/new/model_CNNetResidual_bs64_lr1e-05_epoch16\n",
            "None\n",
            "Epoch 18: Train Acc: 0.99, Train Loss: 0.0935 | Val Acc: 0.82, Val Loss: 0.2999\n",
            "Saved model checkpoint: /content/gdrive/My Drive/ColabNotebooks/new/model_CNNetResidual_bs64_lr1e-05_epoch17\n",
            "None\n",
            "Epoch 19: Train Acc: 0.99, Train Loss: 0.0802 | Val Acc: 0.82, Val Loss: 0.3008\n",
            "Saved model checkpoint: /content/gdrive/My Drive/ColabNotebooks/new/model_CNNetResidual_bs64_lr1e-05_epoch18\n",
            "None\n",
            "Epoch 20: Train Acc: 1.00, Train Loss: 0.0771 | Val Acc: 0.84, Val Loss: 0.2999\n",
            "Saved model checkpoint: /content/gdrive/My Drive/ColabNotebooks/new/model_CNNetResidual_bs64_lr1e-05_epoch19\n",
            "None\n",
            "Epoch 21: Train Acc: 1.00, Train Loss: 0.0648 | Val Acc: 0.82, Val Loss: 0.3103\n",
            "Saved model checkpoint: /content/gdrive/My Drive/ColabNotebooks/new/model_CNNetResidual_bs64_lr1e-05_epoch20\n",
            "None\n",
            "Epoch 22: Train Acc: 1.00, Train Loss: 0.0590 | Val Acc: 0.82, Val Loss: 0.3119\n",
            "Saved model checkpoint: /content/gdrive/My Drive/ColabNotebooks/new/model_CNNetResidual_bs64_lr1e-05_epoch21\n",
            "None\n",
            "Epoch 23: Train Acc: 1.00, Train Loss: 0.0542 | Val Acc: 0.83, Val Loss: 0.2980\n",
            "Saved model checkpoint: /content/gdrive/My Drive/ColabNotebooks/new/model_CNNetResidual_bs64_lr1e-05_epoch22\n",
            "None\n",
            "Epoch 24: Train Acc: 1.00, Train Loss: 0.0472 | Val Acc: 0.83, Val Loss: 0.3230\n",
            "Saved model checkpoint: /content/gdrive/My Drive/ColabNotebooks/new/model_CNNetResidual_bs64_lr1e-05_epoch23\n",
            "None\n",
            "Epoch 25: Train Acc: 1.00, Train Loss: 0.0417 | Val Acc: 0.83, Val Loss: 0.3178\n",
            "Saved model checkpoint: /content/gdrive/My Drive/ColabNotebooks/new/model_CNNetResidual_bs64_lr1e-05_epoch24\n",
            "None\n",
            "Epoch 26: Train Acc: 1.00, Train Loss: 0.0356 | Val Acc: 0.83, Val Loss: 0.3080\n",
            "Saved model checkpoint: /content/gdrive/My Drive/ColabNotebooks/new/model_CNNetResidual_bs64_lr1e-05_epoch25\n",
            "None\n",
            "Epoch 27: Train Acc: 1.00, Train Loss: 0.0320 | Val Acc: 0.84, Val Loss: 0.3104\n",
            "Saved model checkpoint: /content/gdrive/My Drive/ColabNotebooks/new/model_CNNetResidual_bs64_lr1e-05_epoch26\n",
            "None\n",
            "Epoch 28: Train Acc: 1.00, Train Loss: 0.0295 | Val Acc: 0.84, Val Loss: 0.3126\n",
            "Saved model checkpoint: /content/gdrive/My Drive/ColabNotebooks/new/model_CNNetResidual_bs64_lr1e-05_epoch27\n",
            "None\n",
            "Epoch 29: Train Acc: 1.00, Train Loss: 0.0264 | Val Acc: 0.83, Val Loss: 0.3327\n",
            "Saved model checkpoint: /content/gdrive/My Drive/ColabNotebooks/new/model_CNNetResidual_bs64_lr1e-05_epoch28\n",
            "None\n",
            "Epoch 30: Train Acc: 1.00, Train Loss: 0.0250 | Val Acc: 0.83, Val Loss: 0.3215\n",
            "Saved model checkpoint: /content/gdrive/My Drive/ColabNotebooks/new/model_CNNetResidual_bs64_lr1e-05_epoch29\n",
            "None\n",
            "Finished Training\n",
            "Total time elapsed: 493.06 seconds\n"
          ]
        },
        {
          "output_type": "display_data",
          "data": {
            "text/plain": [
              "<Figure size 1400x700 with 2 Axes>"
            ],
            "image/png": "[encoded data removed]"
          },
          "metadata": {}
        }
      ]
    },
    {
      "cell_type": "code",
      "source": [
        "best_model = CNNetResidual(2)\n",
        "best_model.load_state_dict(torch.load('/content/gdrive/My Drive/ColabNotebooks/new/model_CNNetResidual_bs64_lr1e-05_epoch19.pt'))\n"
      ],
      "metadata": {
        "colab": {
          "base_uri": "https://localhost:8080/"
        },
        "id": "jeBxsHru8ICX",
        "outputId": "c166fa01-576f-4c5c-9c1d-6be518b67a2b"
      },
      "execution_count": 86,
      "outputs": [
        {
          "output_type": "execute_result",
          "data": {
            "text/plain": [
              "<All keys matched successfully>"
            ]
          },
          "metadata": {},
          "execution_count": 86
        }
      ]
    },
    {
      "cell_type": "code",
      "source": [
        "print(\"Test Acc %f;\" % (evaluate(best_model, combined_test_dataset)))"
      ],
      "metadata": {
        "colab": {
          "base_uri": "https://localhost:8080/",
          "height": 317
        },
        "id": "g4IJFTT_p8Yq",
        "outputId": "b721fe0d-5394-45ec-a3f1-e425165995fb"
      },
      "execution_count": 87,
      "outputs": [
        {
          "output_type": "error",
          "ename": "ValueError",
          "evalue": "ignored",
          "traceback": [
            "\u001b[0;31m---------------------------------------------------------------------------\u001b[0m",
            "\u001b[0;31mValueError\u001b[0m                                Traceback (most recent call last)",
            "\u001b[0;32m<ipython-input-87-bd3ae3464961>\u001b[0m in \u001b[0;36m<cell line: 1>\u001b[0;34m()\u001b[0m\n\u001b[0;32m----> 1\u001b[0;31m \u001b[0mprint\u001b[0m\u001b[0;34m(\u001b[0m\u001b[0;34m\"Test Acc %f;\"\u001b[0m \u001b[0;34m%\u001b[0m \u001b[0;34m(\u001b[0m\u001b[0mevaluate\u001b[0m\u001b[0;34m(\u001b[0m\u001b[0mbest_model\u001b[0m\u001b[0;34m,\u001b[0m \u001b[0mcombined_test_dataset\u001b[0m\u001b[0;34m)\u001b[0m\u001b[0;34m)\u001b[0m\u001b[0;34m)\u001b[0m\u001b[0;34m\u001b[0m\u001b[0;34m\u001b[0m\u001b[0m\n\u001b[0m",
            "\u001b[0;32m<ipython-input-10-03df760128b4>\u001b[0m in \u001b[0;36mevaluate\u001b[0;34m(model, loader)\u001b[0m\n\u001b[1;32m     13\u001b[0m         \u001b[0mlabels\u001b[0m \u001b[0;34m=\u001b[0m \u001b[0mlabels\u001b[0m\u001b[0;34m.\u001b[0m\u001b[0mcuda\u001b[0m\u001b[0;34m(\u001b[0m\u001b[0;34m)\u001b[0m\u001b[0;34m\u001b[0m\u001b[0;34m\u001b[0m\u001b[0m\n\u001b[1;32m     14\u001b[0m \u001b[0;34m\u001b[0m\u001b[0m\n\u001b[0;32m---> 15\u001b[0;31m       \u001b[0moutputs\u001b[0m \u001b[0;34m=\u001b[0m \u001b[0mmodel\u001b[0m\u001b[0;34m(\u001b[0m\u001b[0minputs\u001b[0m\u001b[0;34m)\u001b[0m\u001b[0;34m\u001b[0m\u001b[0;34m\u001b[0m\u001b[0m\n\u001b[0m\u001b[1;32m     16\u001b[0m       \u001b[0mpredicted\u001b[0m \u001b[0;34m=\u001b[0m \u001b[0moutputs\u001b[0m\u001b[0;34m.\u001b[0m\u001b[0mmax\u001b[0m\u001b[0;34m(\u001b[0m\u001b[0;36m1\u001b[0m\u001b[0;34m,\u001b[0m \u001b[0mkeepdim\u001b[0m\u001b[0;34m=\u001b[0m\u001b[0;32mTrue\u001b[0m\u001b[0;34m)\u001b[0m\u001b[0;34m[\u001b[0m\u001b[0;36m1\u001b[0m\u001b[0;34m]\u001b[0m\u001b[0;34m\u001b[0m\u001b[0;34m\u001b[0m\u001b[0m\n\u001b[1;32m     17\u001b[0m       \u001b[0mtotal\u001b[0m \u001b[0;34m+=\u001b[0m \u001b[0minputs\u001b[0m\u001b[0;34m.\u001b[0m\u001b[0mshape\u001b[0m\u001b[0;34m[\u001b[0m\u001b[0;36m0\u001b[0m\u001b[0;34m]\u001b[0m\u001b[0;34m\u001b[0m\u001b[0;34m\u001b[0m\u001b[0m\n",
            "\u001b[0;32m/usr/local/lib/python3.10/dist-packages/torch/nn/modules/module.py\u001b[0m in \u001b[0;36m_wrapped_call_impl\u001b[0;34m(self, *args, **kwargs)\u001b[0m\n\u001b[1;32m   1516\u001b[0m             \u001b[0;32mreturn\u001b[0m \u001b[0mself\u001b[0m\u001b[0;34m.\u001b[0m\u001b[0m_compiled_call_impl\u001b[0m\u001b[0;34m(\u001b[0m\u001b[0;34m*\u001b[0m\u001b[0margs\u001b[0m\u001b[0;34m,\u001b[0m \u001b[0;34m**\u001b[0m\u001b[0mkwargs\u001b[0m\u001b[0;34m)\u001b[0m  \u001b[0;31m# type: ignore[misc]\u001b[0m\u001b[0;34m\u001b[0m\u001b[0;34m\u001b[0m\u001b[0m\n\u001b[1;32m   1517\u001b[0m         \u001b[0;32melse\u001b[0m\u001b[0;34m:\u001b[0m\u001b[0;34m\u001b[0m\u001b[0;34m\u001b[0m\u001b[0m\n\u001b[0;32m-> 1518\u001b[0;31m             \u001b[0;32mreturn\u001b[0m \u001b[0mself\u001b[0m\u001b[0;34m.\u001b[0m\u001b[0m_call_impl\u001b[0m\u001b[0;34m(\u001b[0m\u001b[0;34m*\u001b[0m\u001b[0margs\u001b[0m\u001b[0;34m,\u001b[0m \u001b[0;34m**\u001b[0m\u001b[0mkwargs\u001b[0m\u001b[0;34m)\u001b[0m\u001b[0;34m\u001b[0m\u001b[0;34m\u001b[0m\u001b[0m\n\u001b[0m\u001b[1;32m   1519\u001b[0m \u001b[0;34m\u001b[0m\u001b[0m\n\u001b[1;32m   1520\u001b[0m     \u001b[0;32mdef\u001b[0m \u001b[0m_call_impl\u001b[0m\u001b[0;34m(\u001b[0m\u001b[0mself\u001b[0m\u001b[0;34m,\u001b[0m \u001b[0;34m*\u001b[0m\u001b[0margs\u001b[0m\u001b[0;34m,\u001b[0m \u001b[0;34m**\u001b[0m\u001b[0mkwargs\u001b[0m\u001b[0;34m)\u001b[0m\u001b[0;34m:\u001b[0m\u001b[0;34m\u001b[0m\u001b[0;34m\u001b[0m\u001b[0m\n",
            "\u001b[0;32m/usr/local/lib/python3.10/dist-packages/torch/nn/modules/module.py\u001b[0m in \u001b[0;36m_call_impl\u001b[0;34m(self, *args, **kwargs)\u001b[0m\n\u001b[1;32m   1525\u001b[0m                 \u001b[0;32mor\u001b[0m \u001b[0m_global_backward_pre_hooks\u001b[0m \u001b[0;32mor\u001b[0m \u001b[0m_global_backward_hooks\u001b[0m\u001b[0;34m\u001b[0m\u001b[0;34m\u001b[0m\u001b[0m\n\u001b[1;32m   1526\u001b[0m                 or _global_forward_hooks or _global_forward_pre_hooks):\n\u001b[0;32m-> 1527\u001b[0;31m             \u001b[0;32mreturn\u001b[0m \u001b[0mforward_call\u001b[0m\u001b[0;34m(\u001b[0m\u001b[0;34m*\u001b[0m\u001b[0margs\u001b[0m\u001b[0;34m,\u001b[0m \u001b[0;34m**\u001b[0m\u001b[0mkwargs\u001b[0m\u001b[0;34m)\u001b[0m\u001b[0;34m\u001b[0m\u001b[0;34m\u001b[0m\u001b[0m\n\u001b[0m\u001b[1;32m   1528\u001b[0m \u001b[0;34m\u001b[0m\u001b[0m\n\u001b[1;32m   1529\u001b[0m         \u001b[0;32mtry\u001b[0m\u001b[0;34m:\u001b[0m\u001b[0;34m\u001b[0m\u001b[0;34m\u001b[0m\u001b[0m\n",
            "\u001b[0;32m<ipython-input-84-e635ee618e1b>\u001b[0m in \u001b[0;36mforward\u001b[0;34m(self, x)\u001b[0m\n\u001b[1;32m     30\u001b[0m \u001b[0;34m\u001b[0m\u001b[0m\n\u001b[1;32m     31\u001b[0m     \u001b[0;32mdef\u001b[0m \u001b[0mforward\u001b[0m\u001b[0;34m(\u001b[0m\u001b[0mself\u001b[0m\u001b[0;34m,\u001b[0m \u001b[0mx\u001b[0m\u001b[0;34m)\u001b[0m\u001b[0;34m:\u001b[0m\u001b[0;34m\u001b[0m\u001b[0;34m\u001b[0m\u001b[0m\n\u001b[0;32m---> 32\u001b[0;31m         \u001b[0mout\u001b[0m \u001b[0;34m=\u001b[0m \u001b[0mself\u001b[0m\u001b[0;34m.\u001b[0m\u001b[0mdownconv1\u001b[0m\u001b[0;34m(\u001b[0m\u001b[0mx\u001b[0m\u001b[0;34m)\u001b[0m\u001b[0;34m\u001b[0m\u001b[0;34m\u001b[0m\u001b[0m\n\u001b[0m\u001b[1;32m     33\u001b[0m         \u001b[0mout\u001b[0m \u001b[0;34m=\u001b[0m \u001b[0mself\u001b[0m\u001b[0;34m.\u001b[0m\u001b[0mdownconv2\u001b[0m\u001b[0;34m(\u001b[0m\u001b[0mout\u001b[0m\u001b[0;34m)\u001b[0m\u001b[0;34m\u001b[0m\u001b[0;34m\u001b[0m\u001b[0m\n\u001b[1;32m     34\u001b[0m \u001b[0;34m\u001b[0m\u001b[0m\n",
            "\u001b[0;32m/usr/local/lib/python3.10/dist-packages/torch/nn/modules/module.py\u001b[0m in \u001b[0;36m_wrapped_call_impl\u001b[0;34m(self, *args, **kwargs)\u001b[0m\n\u001b[1;32m   1516\u001b[0m             \u001b[0;32mreturn\u001b[0m \u001b[0mself\u001b[0m\u001b[0;34m.\u001b[0m\u001b[0m_compiled_call_impl\u001b[0m\u001b[0;34m(\u001b[0m\u001b[0;34m*\u001b[0m\u001b[0margs\u001b[0m\u001b[0;34m,\u001b[0m \u001b[0;34m**\u001b[0m\u001b[0mkwargs\u001b[0m\u001b[0;34m)\u001b[0m  \u001b[0;31m# type: ignore[misc]\u001b[0m\u001b[0;34m\u001b[0m\u001b[0;34m\u001b[0m\u001b[0m\n\u001b[1;32m   1517\u001b[0m         \u001b[0;32melse\u001b[0m\u001b[0;34m:\u001b[0m\u001b[0;34m\u001b[0m\u001b[0;34m\u001b[0m\u001b[0m\n\u001b[0;32m-> 1518\u001b[0;31m             \u001b[0;32mreturn\u001b[0m \u001b[0mself\u001b[0m\u001b[0;34m.\u001b[0m\u001b[0m_call_impl\u001b[0m\u001b[0;34m(\u001b[0m\u001b[0;34m*\u001b[0m\u001b[0margs\u001b[0m\u001b[0;34m,\u001b[0m \u001b[0;34m**\u001b[0m\u001b[0mkwargs\u001b[0m\u001b[0;34m)\u001b[0m\u001b[0;34m\u001b[0m\u001b[0;34m\u001b[0m\u001b[0m\n\u001b[0m\u001b[1;32m   1519\u001b[0m \u001b[0;34m\u001b[0m\u001b[0m\n\u001b[1;32m   1520\u001b[0m     \u001b[0;32mdef\u001b[0m \u001b[0m_call_impl\u001b[0m\u001b[0;34m(\u001b[0m\u001b[0mself\u001b[0m\u001b[0;34m,\u001b[0m \u001b[0;34m*\u001b[0m\u001b[0margs\u001b[0m\u001b[0;34m,\u001b[0m \u001b[0;34m**\u001b[0m\u001b[0mkwargs\u001b[0m\u001b[0;34m)\u001b[0m\u001b[0;34m:\u001b[0m\u001b[0;34m\u001b[0m\u001b[0;34m\u001b[0m\u001b[0m\n",
            "\u001b[0;32m/usr/local/lib/python3.10/dist-packages/torch/nn/modules/module.py\u001b[0m in \u001b[0;36m_call_impl\u001b[0;34m(self, *args, **kwargs)\u001b[0m\n\u001b[1;32m   1525\u001b[0m                 \u001b[0;32mor\u001b[0m \u001b[0m_global_backward_pre_hooks\u001b[0m \u001b[0;32mor\u001b[0m \u001b[0m_global_backward_hooks\u001b[0m\u001b[0;34m\u001b[0m\u001b[0;34m\u001b[0m\u001b[0m\n\u001b[1;32m   1526\u001b[0m                 or _global_forward_hooks or _global_forward_pre_hooks):\n\u001b[0;32m-> 1527\u001b[0;31m             \u001b[0;32mreturn\u001b[0m \u001b[0mforward_call\u001b[0m\u001b[0;34m(\u001b[0m\u001b[0;34m*\u001b[0m\u001b[0margs\u001b[0m\u001b[0;34m,\u001b[0m \u001b[0;34m**\u001b[0m\u001b[0mkwargs\u001b[0m\u001b[0;34m)\u001b[0m\u001b[0;34m\u001b[0m\u001b[0;34m\u001b[0m\u001b[0m\n\u001b[0m\u001b[1;32m   1528\u001b[0m \u001b[0;34m\u001b[0m\u001b[0m\n\u001b[1;32m   1529\u001b[0m         \u001b[0;32mtry\u001b[0m\u001b[0;34m:\u001b[0m\u001b[0;34m\u001b[0m\u001b[0;34m\u001b[0m\u001b[0m\n",
            "\u001b[0;32m/usr/local/lib/python3.10/dist-packages/torch/nn/modules/container.py\u001b[0m in \u001b[0;36mforward\u001b[0;34m(self, input)\u001b[0m\n\u001b[1;32m    213\u001b[0m     \u001b[0;32mdef\u001b[0m \u001b[0mforward\u001b[0m\u001b[0;34m(\u001b[0m\u001b[0mself\u001b[0m\u001b[0;34m,\u001b[0m \u001b[0minput\u001b[0m\u001b[0;34m)\u001b[0m\u001b[0;34m:\u001b[0m\u001b[0;34m\u001b[0m\u001b[0;34m\u001b[0m\u001b[0m\n\u001b[1;32m    214\u001b[0m         \u001b[0;32mfor\u001b[0m \u001b[0mmodule\u001b[0m \u001b[0;32min\u001b[0m \u001b[0mself\u001b[0m\u001b[0;34m:\u001b[0m\u001b[0;34m\u001b[0m\u001b[0;34m\u001b[0m\u001b[0m\n\u001b[0;32m--> 215\u001b[0;31m             \u001b[0minput\u001b[0m \u001b[0;34m=\u001b[0m \u001b[0mmodule\u001b[0m\u001b[0;34m(\u001b[0m\u001b[0minput\u001b[0m\u001b[0;34m)\u001b[0m\u001b[0;34m\u001b[0m\u001b[0;34m\u001b[0m\u001b[0m\n\u001b[0m\u001b[1;32m    216\u001b[0m         \u001b[0;32mreturn\u001b[0m \u001b[0minput\u001b[0m\u001b[0;34m\u001b[0m\u001b[0;34m\u001b[0m\u001b[0m\n\u001b[1;32m    217\u001b[0m \u001b[0;34m\u001b[0m\u001b[0m\n",
            "\u001b[0;32m/usr/local/lib/python3.10/dist-packages/torch/nn/modules/module.py\u001b[0m in \u001b[0;36m_wrapped_call_impl\u001b[0;34m(self, *args, **kwargs)\u001b[0m\n\u001b[1;32m   1516\u001b[0m             \u001b[0;32mreturn\u001b[0m \u001b[0mself\u001b[0m\u001b[0;34m.\u001b[0m\u001b[0m_compiled_call_impl\u001b[0m\u001b[0;34m(\u001b[0m\u001b[0;34m*\u001b[0m\u001b[0margs\u001b[0m\u001b[0;34m,\u001b[0m \u001b[0;34m**\u001b[0m\u001b[0mkwargs\u001b[0m\u001b[0;34m)\u001b[0m  \u001b[0;31m# type: ignore[misc]\u001b[0m\u001b[0;34m\u001b[0m\u001b[0;34m\u001b[0m\u001b[0m\n\u001b[1;32m   1517\u001b[0m         \u001b[0;32melse\u001b[0m\u001b[0;34m:\u001b[0m\u001b[0;34m\u001b[0m\u001b[0;34m\u001b[0m\u001b[0m\n\u001b[0;32m-> 1518\u001b[0;31m             \u001b[0;32mreturn\u001b[0m \u001b[0mself\u001b[0m\u001b[0;34m.\u001b[0m\u001b[0m_call_impl\u001b[0m\u001b[0;34m(\u001b[0m\u001b[0;34m*\u001b[0m\u001b[0margs\u001b[0m\u001b[0;34m,\u001b[0m \u001b[0;34m**\u001b[0m\u001b[0mkwargs\u001b[0m\u001b[0;34m)\u001b[0m\u001b[0;34m\u001b[0m\u001b[0;34m\u001b[0m\u001b[0m\n\u001b[0m\u001b[1;32m   1519\u001b[0m \u001b[0;34m\u001b[0m\u001b[0m\n\u001b[1;32m   1520\u001b[0m     \u001b[0;32mdef\u001b[0m \u001b[0m_call_impl\u001b[0m\u001b[0;34m(\u001b[0m\u001b[0mself\u001b[0m\u001b[0;34m,\u001b[0m \u001b[0;34m*\u001b[0m\u001b[0margs\u001b[0m\u001b[0;34m,\u001b[0m \u001b[0;34m**\u001b[0m\u001b[0mkwargs\u001b[0m\u001b[0;34m)\u001b[0m\u001b[0;34m:\u001b[0m\u001b[0;34m\u001b[0m\u001b[0;34m\u001b[0m\u001b[0m\n",
            "\u001b[0;32m/usr/local/lib/python3.10/dist-packages/torch/nn/modules/module.py\u001b[0m in \u001b[0;36m_call_impl\u001b[0;34m(self, *args, **kwargs)\u001b[0m\n\u001b[1;32m   1525\u001b[0m                 \u001b[0;32mor\u001b[0m \u001b[0m_global_backward_pre_hooks\u001b[0m \u001b[0;32mor\u001b[0m \u001b[0m_global_backward_hooks\u001b[0m\u001b[0;34m\u001b[0m\u001b[0;34m\u001b[0m\u001b[0m\n\u001b[1;32m   1526\u001b[0m                 or _global_forward_hooks or _global_forward_pre_hooks):\n\u001b[0;32m-> 1527\u001b[0;31m             \u001b[0;32mreturn\u001b[0m \u001b[0mforward_call\u001b[0m\u001b[0;34m(\u001b[0m\u001b[0;34m*\u001b[0m\u001b[0margs\u001b[0m\u001b[0;34m,\u001b[0m \u001b[0;34m**\u001b[0m\u001b[0mkwargs\u001b[0m\u001b[0;34m)\u001b[0m\u001b[0;34m\u001b[0m\u001b[0;34m\u001b[0m\u001b[0m\n\u001b[0m\u001b[1;32m   1528\u001b[0m \u001b[0;34m\u001b[0m\u001b[0m\n\u001b[1;32m   1529\u001b[0m         \u001b[0;32mtry\u001b[0m\u001b[0;34m:\u001b[0m\u001b[0;34m\u001b[0m\u001b[0;34m\u001b[0m\u001b[0m\n",
            "\u001b[0;32m/usr/local/lib/python3.10/dist-packages/torch/nn/modules/batchnorm.py\u001b[0m in \u001b[0;36mforward\u001b[0;34m(self, input)\u001b[0m\n\u001b[1;32m    136\u001b[0m \u001b[0;34m\u001b[0m\u001b[0m\n\u001b[1;32m    137\u001b[0m     \u001b[0;32mdef\u001b[0m \u001b[0mforward\u001b[0m\u001b[0;34m(\u001b[0m\u001b[0mself\u001b[0m\u001b[0;34m,\u001b[0m \u001b[0minput\u001b[0m\u001b[0;34m:\u001b[0m \u001b[0mTensor\u001b[0m\u001b[0;34m)\u001b[0m \u001b[0;34m->\u001b[0m \u001b[0mTensor\u001b[0m\u001b[0;34m:\u001b[0m\u001b[0;34m\u001b[0m\u001b[0;34m\u001b[0m\u001b[0m\n\u001b[0;32m--> 138\u001b[0;31m         \u001b[0mself\u001b[0m\u001b[0;34m.\u001b[0m\u001b[0m_check_input_dim\u001b[0m\u001b[0;34m(\u001b[0m\u001b[0minput\u001b[0m\u001b[0;34m)\u001b[0m\u001b[0;34m\u001b[0m\u001b[0;34m\u001b[0m\u001b[0m\n\u001b[0m\u001b[1;32m    139\u001b[0m \u001b[0;34m\u001b[0m\u001b[0m\n\u001b[1;32m    140\u001b[0m         \u001b[0;31m# exponential_average_factor is set to self.momentum\u001b[0m\u001b[0;34m\u001b[0m\u001b[0;34m\u001b[0m\u001b[0m\n",
            "\u001b[0;32m/usr/local/lib/python3.10/dist-packages/torch/nn/modules/batchnorm.py\u001b[0m in \u001b[0;36m_check_input_dim\u001b[0;34m(self, input)\u001b[0m\n\u001b[1;32m    414\u001b[0m     \u001b[0;32mdef\u001b[0m \u001b[0m_check_input_dim\u001b[0m\u001b[0;34m(\u001b[0m\u001b[0mself\u001b[0m\u001b[0;34m,\u001b[0m \u001b[0minput\u001b[0m\u001b[0;34m)\u001b[0m\u001b[0;34m:\u001b[0m\u001b[0;34m\u001b[0m\u001b[0;34m\u001b[0m\u001b[0m\n\u001b[1;32m    415\u001b[0m         \u001b[0;32mif\u001b[0m \u001b[0minput\u001b[0m\u001b[0;34m.\u001b[0m\u001b[0mdim\u001b[0m\u001b[0;34m(\u001b[0m\u001b[0;34m)\u001b[0m \u001b[0;34m!=\u001b[0m \u001b[0;36m4\u001b[0m\u001b[0;34m:\u001b[0m\u001b[0;34m\u001b[0m\u001b[0;34m\u001b[0m\u001b[0m\n\u001b[0;32m--> 416\u001b[0;31m             \u001b[0;32mraise\u001b[0m \u001b[0mValueError\u001b[0m\u001b[0;34m(\u001b[0m\u001b[0;34mf\"expected 4D input (got {input.dim()}D input)\"\u001b[0m\u001b[0;34m)\u001b[0m\u001b[0;34m\u001b[0m\u001b[0;34m\u001b[0m\u001b[0m\n\u001b[0m\u001b[1;32m    417\u001b[0m \u001b[0;34m\u001b[0m\u001b[0m\n\u001b[1;32m    418\u001b[0m \u001b[0;34m\u001b[0m\u001b[0m\n",
            "\u001b[0;31mValueError\u001b[0m: expected 4D input (got 3D input)"
          ]
        }
      ]
    },
    {
      "cell_type": "code",
      "source": [],
      "metadata": {
        "id": "LWUmXR1fpqGd"
      },
      "execution_count": null,
      "outputs": []
    },
    {
      "cell_type": "code",
      "source": [
        "features_or_array = np.array(features_or)  # Convert features to a NumPy array for indexing\n",
        "labels_or_array = np.array(labels_or)  # Convert labels to a NumPy array for indexing\n",
        "\n",
        "# Define the labels you want to extract\n",
        "desired_labels = [1, 5, 6]\n",
        "\n",
        "# Create a mask to filter the indices corresponding to the desired labels\n",
        "mask = np.isin(labels_or_array, desired_labels)\n",
        "\n",
        "# Extract features and labels corresponding to the desired labels\n",
        "features_filtered = features_or_array[mask]\n",
        "labels_filtered = labels_or_array[mask]\n",
        "# Verify the shapes and sizes of the extracted features and labels\n",
        "label_counts_or_filtered = Counter(labels_filtered)\n",
        "for label, count in label_counts_or_filtered.items():\n",
        "    print(f\"Label {label} {classeses[label]}: {count} images\")\n",
        "print(\"Filtered Features Shape:\", features_filtered.shape)\n",
        "print(\"Filtered Labels Shape:\", labels_filtered.shape)"
      ],
      "metadata": {
        "id": "Z-emFHiTuasB"
      },
      "execution_count": null,
      "outputs": []
    }
  ]
}